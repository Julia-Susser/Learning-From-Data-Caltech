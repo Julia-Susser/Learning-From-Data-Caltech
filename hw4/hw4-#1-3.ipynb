{
 "cells": [
  {
   "cell_type": "code",
   "execution_count": 1,
   "metadata": {},
   "outputs": [],
   "source": [
    "import matplotlib.pyplot as plt\n",
    "import math\n",
    "import numpy as np"
   ]
  },
  {
   "cell_type": "code",
   "execution_count": 2,
   "metadata": {},
   "outputs": [
    {
     "data": {
      "text/plain": [
       "0.04964277890917069"
      ]
     },
     "execution_count": 2,
     "metadata": {},
     "output_type": "execute_result"
    }
   ],
   "source": [
    "x = 460000\n",
    "np.sqrt(8/x*math.log(4*(2*x)**10/.05, math.e))"
   ]
  },
  {
   "cell_type": "code",
   "execution_count": 3,
   "metadata": {},
   "outputs": [],
   "source": [
    "def vc_bound(N,delta,dvc):\n",
    "    return np.sqrt(8/N*math.log(4*(2*N)**dvc/delta, math.e))"
   ]
  },
  {
   "cell_type": "code",
   "execution_count": 4,
   "metadata": {},
   "outputs": [],
   "source": [
    "def rademacher_bound(N,delta,dvc):\n",
    "    growth = (N)**dvc\n",
    "    a = np.sqrt(2*math.log(2*N*growth, math.e)/N)\n",
    "    b = np.sqrt(2/N*math.log(1/delta, math.e)+1/N)\n",
    "    return a+b"
   ]
  },
  {
   "cell_type": "code",
   "execution_count": 21,
   "metadata": {},
   "outputs": [],
   "source": [
    "def parrondo_ln(N,delta,dvc):\n",
    "    growth = (2*N)**dvc\n",
    "    ln = math.log(6*growth/delta, math.e)\n",
    "    return ln"
   ]
  },
  {
   "cell_type": "code",
   "execution_count": 140,
   "metadata": {},
   "outputs": [],
   "source": [
    "eps_range = np.arange(0,10,.001)"
   ]
  },
  {
   "cell_type": "code",
   "execution_count": 141,
   "metadata": {},
   "outputs": [],
   "source": [
    "def parrondo_bound(N,delta,dvc):\n",
    "    curbest = False\n",
    "    for eps in eps_range:\n",
    "        bound = np.sqrt(1/N*(2*eps+parrondo_ln(N,delta,dvc)))\n",
    "        if abs(eps-bound)<curbest or curbest==False:\n",
    "            curbest = abs(eps-bound)\n",
    "            best_eps = eps\n",
    "        else:\n",
    "            return best_eps\n",
    "    return best_eps\n",
    "    #return quadratic(1,2/N,-parrondo_ln(N,delta,dvc))  "
   ]
  },
  {
   "cell_type": "code",
   "execution_count": 142,
   "metadata": {},
   "outputs": [],
   "source": [
    "def devroye_ln(N,delta,dvc):\n",
    "    growth = (N**2)**dvc\n",
    "    ln = math.log(4*growth*int(1/delta), math.e)\n",
    "    return ln"
   ]
  },
  {
   "cell_type": "code",
   "execution_count": 144,
   "metadata": {},
   "outputs": [],
   "source": [
    "def devroye_bound(N,delta,dvc):\n",
    "    curbest = False\n",
    "    for eps in eps_range:\n",
    "        bound = np.sqrt(1/(2*N)*((4*eps*(1+eps))+devroye_ln(N,delta,dvc)))\n",
    "        if abs(eps-bound)<curbest or curbest==False:\n",
    "            curbest = abs(eps-bound)\n",
    "            best_eps = eps\n",
    "        else:\n",
    "            return best_eps\n",
    "    return best_eps\n",
    "    #return quadratic(1-(4/(2*N)),-4/(2*N),-devroye_ln(N,delta,dvc)/(2*N))"
   ]
  },
  {
   "cell_type": "code",
   "execution_count": 145,
   "metadata": {},
   "outputs": [
    {
     "data": {
      "text/plain": [
       "5.593"
      ]
     },
     "execution_count": 145,
     "metadata": {},
     "output_type": "execute_result"
    }
   ],
   "source": [
    "devroye_bound(5,.05,50)"
   ]
  },
  {
   "cell_type": "code",
   "execution_count": 146,
   "metadata": {},
   "outputs": [
    {
     "name": "stdout",
     "output_type": "stream",
     "text": [
      "VC 0.632174915200836\n",
      "Parrondo Bound 0.224\n",
      "Rademacher 0.3331726953555261\n",
      "Devroye 0.215\n"
     ]
    }
   ],
   "source": [
    "N = 10000\n",
    "print(\"VC %s\" % vc_bound(N,.05,50))\n",
    "print(\"Parrondo Bound %s\" % parrondo_bound(N,.05,50))\n",
    "print(\"Rademacher %s\" %rademacher_bound(N,.05,50))\n",
    "print(\"Devroye %s\" %devroye_bound(N,.05,50))"
   ]
  },
  {
   "cell_type": "code",
   "execution_count": 147,
   "metadata": {},
   "outputs": [
    {
     "data": {
      "text/plain": [
       "0.215"
      ]
     },
     "execution_count": 147,
     "metadata": {},
     "output_type": "execute_result"
    }
   ],
   "source": [
    "devroye_bound(10000,.05,50)"
   ]
  },
  {
   "cell_type": "code",
   "execution_count": 148,
   "metadata": {},
   "outputs": [
    {
     "data": {
      "text/plain": [
       "<matplotlib.legend.Legend at 0x7f8910f32970>"
      ]
     },
     "execution_count": 148,
     "metadata": {},
     "output_type": "execute_result"
    },
    {
     "data": {
      "image/png": "[encoded data removed]",
      "text/plain": [
       "<Figure size 432x288 with 1 Axes>"
      ]
     },
     "metadata": {
      "needs_background": "light"
     },
     "output_type": "display_data"
    }
   ],
   "source": [
    "x = range(4000,10000,10)\n",
    "plt.plot(x, [vc_bound(y,.05,50) for y in x],label=\"vc\")\n",
    "plt.plot(x, [rademacher_bound(y,.05,50) for y in x],label='rad')\n",
    "plt.plot(x, [parrondo_bound(y,.05,50) for y in x],label='par')\n",
    "plt.plot(x, [devroye_bound(y,.05,50) for y in x],label='dev')\n",
    "plt.legend()"
   ]
  },
  {
   "cell_type": "code",
   "execution_count": 149,
   "metadata": {},
   "outputs": [
    {
     "data": {
      "text/plain": [
       "<matplotlib.legend.Legend at 0x7f8910f13400>"
      ]
     },
     "execution_count": 149,
     "metadata": {},
     "output_type": "execute_result"
    },
    {
     "data": {
      "image/png": "[encoded data removed]",
      "text/plain": [
       "<Figure size 432x288 with 1 Axes>"
      ]
     },
     "metadata": {
      "needs_background": "light"
     },
     "output_type": "display_data"
    }
   ],
   "source": [
    "x = range(1,10)\n",
    "plt.plot(x, [vc_bound(y,.05,50) for y in x],label=\"vc\")\n",
    "plt.plot(x, [rademacher_bound(y,.05,50) for y in x],label='rad')\n",
    "plt.plot(x, [parrondo_bound(y,.05,50) for y in x],label='par')\n",
    "plt.plot(x, [devroye_bound(y,.05,50) for y in x],label='dev')\n",
    "plt.legend()"
   ]
  },
  {
   "cell_type": "code",
   "execution_count": null,
   "metadata": {},
   "outputs": [],
   "source": []
  }
 ],
 "metadata": {
  "kernelspec": {
   "display_name": "Python 3",
   "language": "python",
   "name": "python3"
  },
  "language_info": {
   "codemirror_mode": {
    "name": "ipython",
    "version": 3
   },
   "file_extension": ".py",
   "mimetype": "text/x-python",
   "name": "python",
   "nbconvert_exporter": "python",
   "pygments_lexer": "ipython3",
   "version": "3.8.4"
  }
 },
 "nbformat": 4,
 "nbformat_minor": 4
}
