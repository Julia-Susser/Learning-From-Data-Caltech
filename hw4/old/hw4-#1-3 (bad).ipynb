{
 "cells": [
  {
   "cell_type": "code",
   "execution_count": 1,
   "metadata": {},
   "outputs": [],
   "source": [
    "import matplotlib.pyplot as plt\n",
    "import math\n",
    "import numpy as np"
   ]
  },
  {
   "cell_type": "code",
   "execution_count": 200,
   "metadata": {},
   "outputs": [
    {
     "data": {
      "text/plain": [
       "0.04964277890917069"
      ]
     },
     "execution_count": 200,
     "metadata": {},
     "output_type": "execute_result"
    }
   ],
   "source": [
    "x = 460000\n",
    "np.sqrt(8/x*math.log(4*(2*x)**10/.05, math.e))"
   ]
  },
  {
   "cell_type": "code",
   "execution_count": 57,
   "metadata": {},
   "outputs": [],
   "source": [
    "def vc_bound(N,delta,dvc):\n",
    "    return np.sqrt(8/N*math.log(4*(2*N)**dvc/delta, math.e))"
   ]
  },
  {
   "cell_type": "code",
   "execution_count": 58,
   "metadata": {},
   "outputs": [],
   "source": [
    "def rademacher_bound(N,delta,dvc):\n",
    "    growth = (N)**dvc\n",
    "    a = np.sqrt(2*math.log(2*N*growth, math.e)/N)\n",
    "    b = np.sqrt(2/N*math.log(1/delta, math.e)+1/N)\n",
    "    return a+b"
   ]
  },
  {
   "cell_type": "code",
   "execution_count": 59,
   "metadata": {},
   "outputs": [],
   "source": [
    "def parrondo_ln(N,delta,dvc):\n",
    "    growth = (2*N)**dvc\n",
    "    ln = math.log(6*growth/delta, math.e)/N\n",
    "    return ln"
   ]
  },
  {
   "cell_type": "code",
   "execution_count": 60,
   "metadata": {},
   "outputs": [],
   "source": [
    "def quadratic(a,b,c):\n",
    "    return ((-b + (b ** 2 - 4 * a * c) ** 0.5) / 2 * a)"
   ]
  },
  {
   "cell_type": "code",
   "execution_count": 61,
   "metadata": {},
   "outputs": [],
   "source": [
    "def parrondo_bound(N,delta,dvc):\n",
    "    return quadratic(1,2/N,-parrondo_ln(N,delta,dvc))"
   ]
  },
  {
   "cell_type": "code",
   "execution_count": 62,
   "metadata": {},
   "outputs": [],
   "source": [
    "def devroye_bound(N,delta,dvc):\n",
    "    return quadratic(1-(4/(2*N)),-4/(2*N),-devroye_ln(N,delta,dvc)/(2*N))"
   ]
  },
  {
   "cell_type": "code",
   "execution_count": 63,
   "metadata": {},
   "outputs": [],
   "source": [
    "def devroye_ln(N,delta,dvc):\n",
    "    growth = (N**2)**dvc\n",
    "    ln = math.log(4*growth*int(1/delta), math.e)\n",
    "    return ln"
   ]
  },
  {
   "cell_type": "code",
   "execution_count": 64,
   "metadata": {},
   "outputs": [
    {
     "name": "stdout",
     "output_type": "stream",
     "text": [
      "VC 13.828161484991483\n",
      "Parrondo Bound 4.701361981989992\n",
      "Rademacher 6.936605262311301\n",
      "Devroye 2.013525195545761\n"
     ]
    }
   ],
   "source": [
    "N = 5\n",
    "print(\"VC %s\" % vc_bound(N,.05,50))\n",
    "print(\"Parrondo Bound %s\" % parrondo_bound(N,.05,50))\n",
    "print(\"Rademacher %s\" %rademacher_bound(N,.05,50))\n",
    "print(\"Devroye %s\" %devroye_bound(N,.05,50))"
   ]
  },
  {
   "cell_type": "code",
   "execution_count": 163,
   "metadata": {},
   "outputs": [
    {
     "data": {
      "text/plain": [
       "(0.21514196719744536, -0.21494200719744538)"
      ]
     },
     "execution_count": 163,
     "metadata": {},
     "output_type": "execute_result"
    }
   ],
   "source": [
    "devroye_bound(10000,.05,50)"
   ]
  },
  {
   "cell_type": "code",
   "execution_count": 39,
   "metadata": {},
   "outputs": [],
   "source": [
    "a = [x**10*math.e**(-.003125*x) for x in r]"
   ]
  },
  {
   "cell_type": "code",
   "execution_count": 40,
   "metadata": {},
   "outputs": [
    {
     "data": {
      "text/plain": [
       "[<matplotlib.lines.Line2D at 0x7fa0065bff40>]"
      ]
     },
     "execution_count": 40,
     "metadata": {},
     "output_type": "execute_result"
    },
    {
     "data": {
      "image/png": "[encoded data removed]",
      "text/plain": [
       "<Figure size 432x288 with 1 Axes>"
      ]
     },
     "metadata": {
      "needs_background": "light"
     },
     "output_type": "display_data"
    }
   ],
   "source": [
    "plt.plot(r, a)"
   ]
  },
  {
   "cell_type": "code",
   "execution_count": 7,
   "metadata": {},
   "outputs": [
    {
     "data": {
      "text/plain": [
       "<function round(number, ndigits=None)>"
      ]
     },
     "execution_count": 7,
     "metadata": {},
     "output_type": "execute_result"
    }
   ],
   "source": [
    "round()"
   ]
  },
  {
   "cell_type": "code",
   "execution_count": 49,
   "metadata": {},
   "outputs": [
    {
     "data": {
      "text/plain": [
       "array([False, False, False, ..., False, False, False])"
      ]
     },
     "execution_count": 49,
     "metadata": {},
     "output_type": "execute_result"
    }
   ],
   "source": [
    "abs(np.array(a)-.0122) < .00001"
   ]
  },
  {
   "cell_type": "code",
   "execution_count": 36,
   "metadata": {},
   "outputs": [
    {
     "data": {
      "text/plain": [
       "0.0"
      ]
     },
     "execution_count": 36,
     "metadata": {},
     "output_type": "execute_result"
    }
   ],
   "source": [
    "100math.e**-100"
   ]
  }
 ],
 "metadata": {
  "kernelspec": {
   "display_name": "Python 3",
   "language": "python",
   "name": "python3"
  },
  "language_info": {
   "codemirror_mode": {
    "name": "ipython",
    "version": 3
   },
   "file_extension": ".py",
   "mimetype": "text/x-python",
   "name": "python",
   "nbconvert_exporter": "python",
   "pygments_lexer": "ipython3",
   "version": "3.8.4"
  }
 },
 "nbformat": 4,
 "nbformat_minor": 4
}
