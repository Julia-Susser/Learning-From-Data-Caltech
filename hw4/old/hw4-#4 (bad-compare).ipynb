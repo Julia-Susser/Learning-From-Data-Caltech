{
 "cells": [
  {
   "cell_type": "markdown",
   "metadata": {},
   "source": [
    "# Problem 4"
   ]
  },
  {
   "cell_type": "code",
   "execution_count": 5,
   "metadata": {},
   "outputs": [],
   "source": [
    "import matplotlib.pyplot as plt\n",
    "import math\n",
    "import numpy as np"
   ]
  },
  {
   "cell_type": "code",
   "execution_count": 50,
   "metadata": {},
   "outputs": [],
   "source": [
    "def get_columns(A,col):\n",
    "    return [x[col] for x in A]\n",
    "def multiply(A,B):\n",
    "    k = [[[A[x][a] * get_columns(B,y)[a] for a in range(len(B))] for y in range(len(B[0]))] for x in range(len(A))]\n",
    "    k = [[sum(y) for y in x] for x in k]\n",
    "    return k\n",
    "def calc(X,w):\n",
    "    return [np.sum(np.dot(x,w)) for x in X]   \n",
    "\n",
    "class linreg():\n",
    "    def __init__(self,X,y):\n",
    "        self.Xorig = X\n",
    "        self.X = X\n",
    "        self.y = y\n",
    "        self.XT = np.transpose(self.X)\n",
    "        self.XXT = multiply(self.XT,self.X)\n",
    "        #self.iX = inverse(self.XXT)\n",
    "        self.iX = np.linalg.pinv(self.XXT)\n",
    "        self.w = multiply(multiply(self.iX,self.XT),self.y)\n",
    "        self.preds = calc(self.X,self.w)\n",
    "        \n",
    "        #self.plot()\n",
    "        \n",
    "    def plot(self):\n",
    "        plt.plot(self.Xorig,self.pred)\n",
    "        plt.plot(self.Xorig,self.y,\"o\")\n",
    "        plt.vlines(self.Xorig, self.y, self.pred, colors='k', linestyles='solid', label='')\n",
    "        plt.show()\n",
    "    \n",
    "\n",
    "\n",
    "class Plot():\n",
    "    def plot(self):\n",
    "        plt.plot([-1,1],[self.m*x for x in [-1,1]],label='orig')\n",
    "        plt.plot([-1,1],[self.m1*x for x in [-1,1]],label='linreg')\n",
    "        xvals = np.arange(-1,1,.1);\n",
    "        amplitude = np.sin(xvals*math.pi)\n",
    "        plt.plot(xvals, amplitude)\n",
    "        plt.plot(self.x,self.y,\"o\")\n",
    "        plt.xlim([-1, 1])\n",
    "        plt.ylim([-1, 1])\n",
    "        plt.legend()\n",
    "        plt.show()\n",
    "        \n",
    "        \n",
    "class Line():\n",
    "    def line(self,xs,ys):\n",
    "        self.m = (xs[0]-xs[1])/(ys[0]-ys[1])\n",
    "        p = [(xs[0]+xs[1])/2,(ys[0]+ys[1])/2]\n",
    "        self.m = p[1]/p[0]\n",
    "        \n",
    "class bandv(Line, Plot):\n",
    "    def __init__(self,N):\n",
    "        self.N = N\n",
    "        self.runEx()\n",
    "        \n",
    "    def runEx(self):\n",
    "        avgs = []\n",
    "        for x in range(1):\n",
    "            self.x = np.random.uniform(1,-1,2)\n",
    "            self.y = np.sin(self.x*math.pi)\n",
    "            self.line(self.x,self.y)\n",
    "            print(self.m)\n",
    "            linregLine = linreg(self.x.reshape(-1,1),self.y.reshape(-1,1))\n",
    "            self.m1 = linregLine.w[0][0]\n",
    "            self.plot()\n",
    "            avgs.append(self.m)\n",
    "        self.gbar = np.mean(avgs)\n",
    "    def bias(self):\n",
    "        xvals = np.arange(-1,1,.1);\n",
    "        f = np.sin(xvals*math.pi)\n",
    "        gbar = xvals*self.gbar\n",
    "        bias = np.mean(np.power((gbar-f),2))\n",
    "        print(bias)\n",
    "    def var(self):\n",
    "        variances = []\n",
    "        for x in range(1000): # this is getting the variance of all the expected datasets from gbar\n",
    "            self.x = np.random.uniform(1,-1,2)\n",
    "            self.y = np.sin(self.x*math.pi)\n",
    "            self.line(self.x,self.y)\n",
    "\n",
    "            \n",
    "            xvals = np.arange(-1,1,.1);\n",
    "            gbar = xvals*self.gbar\n",
    "            g = xvals*self.m\n",
    "            variances.append(np.mean(np.power((g-gbar),2)))\n",
    "\n",
    "        var = np.mean(variances)\n",
    "        print(var)\n",
    "            \n",
    "        "
   ]
  },
  {
   "cell_type": "code",
   "execution_count": 51,
   "metadata": {},
   "outputs": [
    {
     "name": "stdout",
     "output_type": "stream",
     "text": [
      "1.5661235156511324\n"
     ]
    },
    {
     "data": {
      "image/png": "[encoded data removed]",
      "text/plain": [
       "<Figure size 432x288 with 1 Axes>"
      ]
     },
     "metadata": {
      "needs_background": "light"
     },
     "output_type": "display_data"
    },
    {
     "data": {
      "text/plain": [
       "<__main__.bandv at 0x7fd505d8d340>"
      ]
     },
     "execution_count": 51,
     "metadata": {},
     "output_type": "execute_result"
    }
   ],
   "source": [
    "bandv(2)"
   ]
  },
  {
   "cell_type": "code",
   "execution_count": 10,
   "metadata": {},
   "outputs": [
    {
     "data": {
      "text/plain": [
       "array([ 0.58299753, -0.03971244])"
      ]
     },
     "execution_count": 10,
     "metadata": {},
     "output_type": "execute_result"
    }
   ],
   "source": [
    "np.random.uniform(1,-1,2)"
   ]
  },
  {
   "cell_type": "code",
   "execution_count": null,
   "metadata": {},
   "outputs": [],
   "source": []
  }
 ],
 "metadata": {
  "kernelspec": {
   "display_name": "Python 3",
   "language": "python",
   "name": "python3"
  },
  "language_info": {
   "codemirror_mode": {
    "name": "ipython",
    "version": 3
   },
   "file_extension": ".py",
   "mimetype": "text/x-python",
   "name": "python",
   "nbconvert_exporter": "python",
   "pygments_lexer": "ipython3",
   "version": "3.8.4"
  }
 },
 "nbformat": 4,
 "nbformat_minor": 4
}
