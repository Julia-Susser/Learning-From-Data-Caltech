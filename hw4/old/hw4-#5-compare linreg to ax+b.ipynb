{
 "cells": [
  {
   "cell_type": "markdown",
   "metadata": {},
   "source": [
    "# Problem 4"
   ]
  },
  {
   "cell_type": "code",
   "execution_count": 2,
   "metadata": {},
   "outputs": [],
   "source": [
    "import matplotlib.pyplot as plt\n",
    "import math\n",
    "import numpy as np"
   ]
  },
  {
   "cell_type": "code",
   "execution_count": 71,
   "metadata": {},
   "outputs": [],
   "source": [
    "def get_columns(A,col):\n",
    "    return [x[col] for x in A]\n",
    "def multiply(A,B):\n",
    "    k = [[[A[x][a] * get_columns(B,y)[a] for a in range(len(B))] for y in range(len(B[0]))] for x in range(len(A))]\n",
    "    k = [[sum(y) for y in x] for x in k]\n",
    "    return k\n",
    "def calc(X,w):\n",
    "    return [np.sum(np.dot(x,w)) for x in X]   \n",
    "\n",
    "class linreg():     \n",
    "    def linreg(self,X,y):\n",
    "        self.X = X\n",
    "        self.y = y\n",
    "        self.XT = np.transpose(self.X)\n",
    "        self.XXT = multiply(self.XT,self.X)\n",
    "        \n",
    "        self.iX = np.linalg.pinv(self.XXT)\n",
    "        self.w = multiply(multiply(self.iX,self.XT),self.y)\n",
    "        \n",
    "        return self.w\n",
    "    \n",
    "    def linreg_wb(self,X,y):\n",
    "        self.Xorig = X\n",
    "        print(X)\n",
    "        self.X = np.concatenate([[[1]for x in range(len(X))],X],axis=1)\n",
    "        self.y = y\n",
    "        self.XT = np.transpose(self.X)\n",
    "        self.XXT = multiply(self.XT,self.X)\n",
    "        \n",
    "        self.iX = np.linalg.pinv(self.XXT)\n",
    "        self.w = multiply(multiply(self.iX,self.XT),self.y)\n",
    "        \n",
    "        self.preds = calc(self.X,self.w)\n",
    "        \n",
    "        self.ploty()\n",
    "        \n",
    "        return self.w\n",
    "    \n",
    "    def ploty(self):\n",
    "        plt.plot(self.Xorig,self.preds)\n",
    "        plt.plot(self.Xorig,self.y,\"o\")\n",
    "        plt.vlines(self.Xorig, self.y, self.preds, colors='k', linestyles='solid', label='')\n",
    "        plt.show()\n",
    "    \n",
    "    def b(self,xs,ys):\n",
    "        b = (ys[0]+ys[1])/2\n",
    "        return b\n",
    "    \n",
    "    def ax_b(self,xs,ys):\n",
    "        m = (ys[0]-ys[1])/(xs[0]-xs[1])\n",
    "        b = ys[0]-m*xs[0]\n",
    "        return [m,b]\n",
    "\n",
    "class Plot():\n",
    "    def plot(self):\n",
    "        plt.plot([-1,1],[self.ax_bV[0]+self.ax_bV[1]*x for x in [-1,1]],label='linreg')\n",
    "        plt.plot([-1,1],[self.m[0]*x+self.m[1] for x in [-1,1]],label='linreg')\n",
    "        xvals = np.arange(-1,1,.1);\n",
    "        amplitude = np.sin(xvals*math.pi)\n",
    "        plt.plot(xvals, amplitude)\n",
    "        plt.plot(self.x,self.y,\"o\")\n",
    "        plt.xlim([-1, 1])\n",
    "        plt.ylim([-1, 1])\n",
    "        plt.show()\n",
    "    \n",
    "        \n",
    "    \n",
    "        \n",
    "class bandv(linreg, Plot):\n",
    "    def __init__(self,N):\n",
    "        self.N = N\n",
    "        self.runEx()\n",
    "        \n",
    "    def runEx(self):\n",
    "        avgs = []\n",
    "        for x in range(1):\n",
    "            X = np.random.uniform(1,-1,2)\n",
    "            self.x = X\n",
    "            y = np.sin(X*math.pi)\n",
    "            i = X.reshape(-1,1)\n",
    "            k = y.reshape(-1,1)\n",
    "            self.ax_bV = np.array(self.linreg_wb(i,k)).reshape(1,-1)[0]\n",
    "            self.m = self.ax_b(X,y)\n",
    "            self.plot()\n",
    "           \n",
    "            print(self.m)\n",
    "        \n",
    "    def Eout_ax(self):\n",
    "        g = self.xvals * self.axV\n",
    "        return np.mean(np.power((g-self.f),2))\n",
    "    \n",
    "    def Eout_ax_sqr(self):\n",
    "        g = self.xvals**2 * self.ax_sqrV\n",
    "        return np.mean(np.power((g-self.f),2))\n",
    "    \n",
    "    def Eout_ax_sqr_b(self):\n",
    "        g = self.xvals**2 * self.ax_sqr_bV[0] + self.ax_sqr_bV[1]\n",
    "        return np.mean(np.power((g-self.f),2))\n",
    "  \n",
    "    def Eout_b(self):\n",
    "        g = self.bV\n",
    "        return np.mean(np.power((g-self.f),2))\n",
    "    \n",
    "    def Eout_ax_b(self):\n",
    "        g = self.xvals * self.ax_bV[0] + self.ax_bV[1]\n",
    "        return np.mean(np.power((g-self.f),2))\n",
    "            \n",
    "        "
   ]
  },
  {
   "cell_type": "code",
   "execution_count": 72,
   "metadata": {},
   "outputs": [
    {
     "name": "stdout",
     "output_type": "stream",
     "text": [
      "[[0.87551767]\n",
      " [0.38301997]]\n"
     ]
    },
    {
     "data": {
      "image/png": "[encoded data removed]",
      "text/plain": [
       "<Figure size 432x288 with 1 Axes>"
      ]
     },
     "metadata": {
      "needs_background": "light"
     },
     "output_type": "display_data"
    },
    {
     "data": {
      "image/png": "[encoded data removed]",
      "text/plain": [
       "<Figure size 432x288 with 1 Axes>"
      ]
     },
     "metadata": {
      "needs_background": "light"
     },
     "output_type": "display_data"
    },
    {
     "name": "stdout",
     "output_type": "stream",
     "text": [
      "[-1.1209123506716554, 1.3625589853682096]\n"
     ]
    },
    {
     "data": {
      "text/plain": [
       "<__main__.bandv at 0x7f8c4cbd5df0>"
      ]
     },
     "execution_count": 72,
     "metadata": {},
     "output_type": "execute_result"
    }
   ],
   "source": [
    "bandv(2)"
   ]
  },
  {
   "cell_type": "code",
   "execution_count": null,
   "metadata": {},
   "outputs": [],
   "source": []
  }
 ],
 "metadata": {
  "kernelspec": {
   "display_name": "Python 3",
   "language": "python",
   "name": "python3"
  },
  "language_info": {
   "codemirror_mode": {
    "name": "ipython",
    "version": 3
   },
   "file_extension": ".py",
   "mimetype": "text/x-python",
   "name": "python",
   "nbconvert_exporter": "python",
   "pygments_lexer": "ipython3",
   "version": "3.8.4"
  }
 },
 "nbformat": 4,
 "nbformat_minor": 4
}
