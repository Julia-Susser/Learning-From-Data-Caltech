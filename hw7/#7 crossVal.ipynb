{
 "cells": [
  {
   "cell_type": "code",
   "execution_count": 3,
   "metadata": {},
   "outputs": [],
   "source": [
    "import numpy as np\n",
    "import pandas as pd\n",
    "import matplotlib.pyplot as plt"
   ]
  },
  {
   "cell_type": "code",
   "execution_count": 8,
   "metadata": {},
   "outputs": [],
   "source": [
    "class CrossVal:\n",
    "    def __init__(self):\n",
    "        Vars = {\"a\":np.sqrt(np.sqrt(3)+4), \"b\":np.sqrt(np.sqrt(3)-1),\"c\":np.sqrt(9+4*np.sqrt(6)),\"d\":np.sqrt(9-np.sqrt(6))}\n",
    "        for answerChoice,var in Vars.items():\n",
    "            print(\"\\n\\nAnswer Choice %s and X = %s\" % (answerChoice,var))\n",
    "            self.x = [-1,1,var]\n",
    "            self.y = [0,0,1]\n",
    "            self.cross_val()\n",
    "        \n",
    "    def b(self,ys):\n",
    "        y1,y2 = ys\n",
    "        self.h0b = (y1-y2)/2\n",
    "    def ax_b(self,xs,ys):\n",
    "        x1,x2 = xs\n",
    "        y1,y2 = ys\n",
    "        self.h1slope = (y1-y2)/(x1-x2)\n",
    "        self.h1b = y1-self.h1slope*x1\n",
    "    def cross_val(self):\n",
    "        Evalh0 = []\n",
    "        Evalh1 = []\n",
    "        \n",
    "        for val in range(len(self.x)):\n",
    "            xs,ys = self.x[:], self.y[:]\n",
    "            xval = xs.pop(val)\n",
    "            yval = ys.pop(val)\n",
    "            \n",
    "            self.b(ys)\n",
    "            self.ax_b(xs,ys)\n",
    "            \n",
    "            h0E, h1E = self.Eval(xval,yval)\n",
    "            Evalh0.append(h0E)\n",
    "            Evalh1.append(h1E)\n",
    "            \n",
    "        print(\"Eval h0 %s and Eval h1 %s\" % (np.average(Evalh0).round(2),np.average(Evalh1)))\n",
    "    def Eval(self, x,y):\n",
    "        return (self.h0b-y)**2, ((self.h1slope*x+self.h1b)-y)**2\n",
    "            "
   ]
  },
  {
   "cell_type": "code",
   "execution_count": 9,
   "metadata": {},
   "outputs": [
    {
     "name": "stdout",
     "output_type": "stream",
     "text": [
      "\n",
      "\n",
      "Answer Choice a and X = 2.3941701709713277\n",
      "Eval h0 0.5 and Eval h1 1.1350433676859415\n",
      "\n",
      "\n",
      "Answer Choice b and X = 0.8555996771673521\n",
      "Eval h0 0.5 and Eval h1 64.66494840795228\n",
      "\n",
      "\n",
      "Answer Choice c and X = 4.335661307243996\n",
      "Eval h0 0.5 and Eval h1 0.5\n",
      "\n",
      "\n",
      "Answer Choice d and X = 2.5593964634688433\n",
      "Eval h0 0.5 and Eval h1 0.9868839293305477\n"
     ]
    },
    {
     "data": {
      "text/plain": [
       "<__main__.CrossVal at 0x7f9ed3a3c6d0>"
      ]
     },
     "execution_count": 9,
     "metadata": {},
     "output_type": "execute_result"
    }
   ],
   "source": [
    "CrossVal()"
   ]
  },
  {
   "cell_type": "code",
   "execution_count": 11,
   "metadata": {},
   "outputs": [
    {
     "name": "stdout",
     "output_type": "stream",
     "text": [
      "2 [1]\n"
     ]
    }
   ],
   "source": [
    "k = [1,2]\n",
    "x = k.pop(1)\n",
    "print(x,k)"
   ]
  },
  {
   "cell_type": "code",
   "execution_count": 8,
   "metadata": {},
   "outputs": [
    {
     "data": {
      "text/plain": [
       "[1]"
      ]
     },
     "execution_count": 8,
     "metadata": {},
     "output_type": "execute_result"
    }
   ],
   "source": []
  },
  {
   "cell_type": "code",
   "execution_count": null,
   "metadata": {},
   "outputs": [],
   "source": []
  }
 ],
 "metadata": {
  "kernelspec": {
   "display_name": "Python 3",
   "language": "python",
   "name": "python3"
  },
  "language_info": {
   "codemirror_mode": {
    "name": "ipython",
    "version": 3
   },
   "file_extension": ".py",
   "mimetype": "text/x-python",
   "name": "python",
   "nbconvert_exporter": "python",
   "pygments_lexer": "ipython3",
   "version": "3.8.4"
  }
 },
 "nbformat": 4,
 "nbformat_minor": 4
}
