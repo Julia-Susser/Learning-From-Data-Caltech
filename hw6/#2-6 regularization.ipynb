{
 "cells": [
  {
   "cell_type": "code",
   "execution_count": 4,
   "metadata": {},
   "outputs": [],
   "source": [
    "import numpy as np\n",
    "import pandas as pd\n",
    "import matplotlib.pyplot as plt"
   ]
  },
  {
   "cell_type": "code",
   "execution_count": 5,
   "metadata": {},
   "outputs": [],
   "source": [
    "Xtrain = pd.read_csv(\"../data/in.csv\",header=None)\n",
    "Xtrain.columns = [\"x1\",\"x2\",\"y\"]\n",
    "ytrain = Xtrain[\"y\"]\n",
    "Xtrain = Xtrain.drop(\"y\",axis=1)\n",
    "\n",
    "Xtest = pd.read_csv(\"../data/out.csv\",header=None)\n",
    "Xtest.columns = [\"x1\",\"x2\",\"y\"]\n",
    "ytest = Xtest[\"y\"]\n",
    "Xtest = Xtest.drop(\"y\",axis=1)"
   ]
  },
  {
   "cell_type": "code",
   "execution_count": 6,
   "metadata": {},
   "outputs": [],
   "source": []
  },
  {
   "cell_type": "code",
   "execution_count": 7,
   "metadata": {},
   "outputs": [],
   "source": [
    "\n",
    "\n",
    "class LinearRegression():\n",
    "    def __init__(self,X,y):\n",
    "        self.X = self.addThresh(X)\n",
    "        \n",
    "        self.y = y\n",
    "        self.XT = np.transpose(self.X)\n",
    "        self.XXT = np.matmul(self.XT,self.X)\n",
    "        self.iX = np.linalg.pinv(self.XXT)\n",
    "        self.w = np.matmul(np.matmul(self.iX,self.XT),self.y) \n",
    "        self.preds = self.calc(X)\n",
    "        \n",
    "    def addThresh(self, X):\n",
    "        return np.concatenate([[[1]for x in range(len(X))],X],axis=1)\n",
    "    def calc(self,X):\n",
    "        return np.matmul(self.addThresh(X),self.w)\n",
    "\n",
    "    \n"
   ]
  },
  {
   "cell_type": "code",
   "execution_count": 8,
   "metadata": {},
   "outputs": [],
   "source": [
    "Xtrain = nonlinear_transform(Xtrain)\n",
    "Xtest = nonlinear_transform(Xtest)"
   ]
  },
  {
   "cell_type": "code",
   "execution_count": 9,
   "metadata": {},
   "outputs": [],
   "source": [
    "\n",
    "\n",
    "class LinearRegressionRegularization():\n",
    "    def __init__(self,X,y, Lambda):\n",
    "        self.X = self.addThresh(X)\n",
    "        self.y = y\n",
    "        self.Lambda = Lambda\n",
    "        \n",
    "        self.XT = np.transpose(self.X)\n",
    "        self.XXT = np.matmul(self.XT,self.X)\n",
    "        self.lm = np.multiply(self.Lambda, np.identity(self.XXT.shape[0]))\n",
    "        self.XXT_plus_lambda = np.add(self.XXT, self.lm)\n",
    "        self.iX = np.linalg.pinv(self.XXT_plus_lambda)\n",
    "        self.w = np.matmul(np.matmul(self.iX,self.XT),self.y) \n",
    "        self.preds = self.calc(X)\n",
    "        \n",
    "    def addThresh(self, X):\n",
    "        return np.concatenate([[[1]for x in range(len(X))],X],axis=1)\n",
    "    def calc(self,X):\n",
    "        return np.matmul(self.addThresh(X),self.w)\n",
    "\n",
    "    \n"
   ]
  },
  {
   "cell_type": "code",
   "execution_count": 42,
   "metadata": {},
   "outputs": [],
   "source": [
    "class FindK:\n",
    "    def findK(self):\n",
    "        smallestEout = 1\n",
    "        for k in list(range(-2,3)):\n",
    "            self.Lambda = 10**k\n",
    "            self.linreg = LinearRegressionRegularization(self.Xtrain,self.ytrain, self.Lambda)\n",
    "\n",
    "            \n",
    "            Eout = self.E(self.Xtest, self.ytest, self.linreg)\n",
    "\n",
    "            if smallestEout > Eout:\n",
    "                smallestEout = Eout\n",
    "                finalK = k\n",
    "                self.finalLinreg = self.linreg\n",
    "\n",
    "        print(finalK)\n",
    "    \n",
    "\n",
    "class Test(FindK):\n",
    "    def __init__(self,Xtrain, ytrain, Xtest, ytest, k=None):\n",
    "        \n",
    "\n",
    "        self.Xtrain = Xtrain\n",
    "        self.Xtest = Xtest\n",
    "        self.ytrain = ytrain\n",
    "        self.ytest = ytest\n",
    "        \n",
    "        self.regularization = True\n",
    "        self.findBestK = False\n",
    "        \n",
    "        if self.regularization:\n",
    "            print(\"Linear Regression Regularization with k=%s and lambda = 10**k\" % k)\n",
    "            self.Lambda = 10**k\n",
    "            self.finalLinreg = LinearRegressionRegularization(self.Xtrain,self.ytrain, self.Lambda)\n",
    "        elif self.findBestK:\n",
    "            print(\"Finding Best K for regularization and lambda = 10**k\")\n",
    "            self.findK()\n",
    "                    \n",
    "        else: \n",
    "            print(\"Normal Linear Regression\")\n",
    "            self.finalLinreg = LinearRegression(self.Xtrain,self.ytrain)\n",
    "        \n",
    "        \n",
    "        self.weights = np.array(self.finalLinreg.w)\n",
    "       \n",
    "        Ein = self.E(self.Xtrain, self.ytrain, self.finalLinreg)\n",
    "        Eout = self.E(self.Xtest, self.ytest, self.finalLinreg)\n",
    "        print(\"Ein Error %s\" % Ein)\n",
    "        print(\"Eout Error %s\" % Eout)\n",
    "        \n",
    "    def E(self,X,y, linreg):\n",
    "        preds = np.sign(linreg.calc(X))\n",
    "        return np.count_nonzero(preds != y)/len(y)\n",
    "    \n",
    "        \n",
    "   \n",
    "        "
   ]
  },
  {
   "cell_type": "code",
   "execution_count": 45,
   "metadata": {},
   "outputs": [
    {
     "name": "stdout",
     "output_type": "stream",
     "text": [
      "Linear Regression Regularization with k=3 and lambda = 10**k\n",
      "Ein Error 0.37142857142857144\n",
      "Eout Error 0.436\n"
     ]
    },
    {
     "data": {
      "text/plain": [
       "<__main__.Test at 0x7f8c2c7758e0>"
      ]
     },
     "execution_count": 45,
     "metadata": {},
     "output_type": "execute_result"
    }
   ],
   "source": [
    "Test(Xtrain,ytrain,Xtest,ytest, 3)"
   ]
  },
  {
   "cell_type": "code",
   "execution_count": 221,
   "metadata": {},
   "outputs": [
    {
     "data": {
      "text/plain": [
       "array([[1.]])"
      ]
     },
     "execution_count": 221,
     "metadata": {},
     "output_type": "execute_result"
    }
   ],
   "source": [
    "np.identity((1))"
   ]
  },
  {
   "cell_type": "code",
   "execution_count": 222,
   "metadata": {},
   "outputs": [],
   "source": [
    "import math"
   ]
  },
  {
   "cell_type": "code",
   "execution_count": null,
   "metadata": {},
   "outputs": [],
   "source": []
  }
 ],
 "metadata": {
  "kernelspec": {
   "display_name": "Python 3",
   "language": "python",
   "name": "python3"
  },
  "language_info": {
   "codemirror_mode": {
    "name": "ipython",
    "version": 3
   },
   "file_extension": ".py",
   "mimetype": "text/x-python",
   "name": "python",
   "nbconvert_exporter": "python",
   "pygments_lexer": "ipython3",
   "version": "3.8.4"
  }
 },
 "nbformat": 4,
 "nbformat_minor": 4
}
