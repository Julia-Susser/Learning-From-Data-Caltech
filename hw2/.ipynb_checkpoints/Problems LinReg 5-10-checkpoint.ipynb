{
 "cells": [
  {
   "cell_type": "code",
   "execution_count": 2,
   "metadata": {},
   "outputs": [],
   "source": [
    "import numpy as np\n",
    "import matplotlib.pyplot as plt\n",
    "import pandas as pd\n",
    "import random\n",
    "#problem 5 #speaks to the problem of linear regression being linear always going up, means it adjusts the values badly to fix error for giving value +3 instead of +1"
   ]
  },
  {
   "cell_type": "markdown",
   "metadata": {},
   "source": [
    "# Problems 5-6"
   ]
  },
  {
   "cell_type": "code",
   "execution_count": 4,
   "metadata": {},
   "outputs": [
    {
     "data": {
      "text/plain": [
       "[[-0.9999999999999936], [1.2999999999999985]]"
      ]
     },
     "execution_count": 4,
     "metadata": {},
     "output_type": "execute_result"
    }
   ],
   "source": [
    "def get_columns(A,col):\n",
    "    return [x[col] for x in A]\n",
    "def multiply(A,B):\n",
    "    k = [[[A[x][a] * get_columns(B,y)[a] for a in range(len(B))] for y in range(len(B[0]))] for x in range(len(A))]\n",
    "    k = [[sum(y) for y in x] for x in k]\n",
    "    return k\n",
    "def calc(X,w):\n",
    "    return [np.sum(np.dot(x,w)) for x in X]   \n",
    "\n",
    "class linreg():\n",
    "    def __init__(self,X,y):\n",
    "        self.Xorig = X\n",
    "        self.X = np.concatenate([[[1]for x in range(len(X))],X],axis=1)\n",
    "        self.y = y\n",
    "        self.XT = np.transpose(self.X)\n",
    "        self.XXT = multiply(self.XT,self.X)\n",
    "        #self.iX = inverse(self.XXT)\n",
    "        self.iX = np.linalg.pinv(self.XXT)\n",
    "        self.w = multiply(multiply(self.iX,self.XT),self.y) #use np.dot or np.matmul- np.multiply is different\n",
    "        self.preds = calc(self.X,self.w)\n",
    "        \n",
    "        #self.plot()\n",
    "        \n",
    "    def plot(self):\n",
    "        plt.plot(self.Xorig,self.preds)\n",
    "        plt.plot(self.Xorig,self.y,\"o\")\n",
    "        plt.vlines(self.Xorig, self.y, self.preds, colors='k', linestyles='solid', label='')\n",
    "        plt.show()\n",
    "    \n",
    "X = [[1],[2],[3],[4]]\n",
    "y = [[0],[2],[3],[4]]\n",
    "linregLine = linreg(X,y)\n",
    "linregLine.w"
   ]
  },
  {
   "cell_type": "code",
   "execution_count": 41,
   "metadata": {},
   "outputs": [],
   "source": [
    "class Line():\n",
    "    def __init__(self, p):\n",
    "        self.p1 = p[0]\n",
    "        self.p2 = p[1]\n",
    "        self.slope = (self.p1[1]-self.p2[1])/(self.p1[0]-self.p2[0])\n",
    "        self.b = self.p1[1]-self.slope*self.p1[0]\n",
    "    def calculate(self,x):\n",
    "        return self.slope*x+self.b\n",
    "    def plot(self):\n",
    "        x = np.random.uniform(-1,1,10)\n",
    "        plt.plot(x,self.calculate(x))\n",
    "    def find_actual_y(self,points):\n",
    "        return [np.sign(p[1] - self.calculate(p[0])) for p in points] #higher than line = 1\n",
    "\n",
    "\n",
    "class Plot():\n",
    "    def LR_line(self,x):\n",
    "        w0 = self.weights[0]\n",
    "        w1 = self.weights[1]\n",
    "        w2 = self.weights[2]\n",
    "        return (-w0-(x*w1))/w2\n",
    "    def plotLR(self):\n",
    "        k = np.concatenate([np.array(self.X),np.array(self.y).reshape(-1,1)],axis=1)\n",
    "        df = pd.DataFrame(k, columns = [\"p1\",\"p2\",\"y\"])\n",
    "        plt.scatter(df[df[\"y\"]==-1].p1,df[df[\"y\"]==-1].p2, color=\"r\")\n",
    "        plt.scatter(df[df[\"y\"]==1].p1,df[df[\"y\"]==1].p2, color=\"g\")\n",
    "\n",
    "        plt.plot([-1,1],[self.slope*x +self.b for x in [-1,1]], label=\"real split\")\n",
    "        plt.plot([-1,1],[self.LR_line(x) for x in [-1,1]], label=\"linear regression\")\n",
    "        \n",
    "        plt.legend()\n",
    "        plt.xlim([-1, 1])\n",
    "        plt.ylim([-1, 1])\n",
    "        plt.show()\n",
    "        \n",
    "class create_test(Line, Plot):\n",
    "    def __init__(self,N):\n",
    "        \n",
    "        self.create_line()\n",
    "        \n",
    "        #create points and real vals\n",
    "        self.N = N\n",
    "        self.X = [np.random.uniform(-1.0,1.0,2) for x in range(self.N)]\n",
    "        self.y = np.array(self.find_actual_y(self.X)).reshape(-1,1)\n",
    "        \n",
    "        self.linreg = linreg(self.X,self.y)\n",
    "        self.weights = np.array(self.linreg.w)[:,0]\n",
    "        #self.plotLR()\n",
    "        self.preds = np.sign(self.linreg.preds)\n",
    "        \n",
    "        self.Ein_error = self.Ein_error()\n",
    "        self.Eout_error = self.Eout_error()\n",
    "    def create_line(self):\n",
    "        p = [np.random.uniform(-1.0,1.0,2) for x in range(2)]\n",
    "        while p[0][0] == p[1][0] and p[0][1] == p[1][1]:\n",
    "            p = [np.random.uniform(-1.0,1.0,2) for x in range(2)]\n",
    "        super().__init__(p)\n",
    "        \n",
    "    def Ein_error(self):\n",
    "        return sum(self.preds != self.y.reshape(1,-1)[0])/self.N\n",
    "    def Eout_error(self):\n",
    "        false = 0\n",
    "        for x in range(1000):\n",
    "            point = np.random.uniform(-1.0,1.0,2)\n",
    "            y = self.find_actual_y([point])\n",
    "            pred = np.sign(np.dot(np.concatenate([[1],point]), self.weights))\n",
    "            if y != pred:\n",
    "                false += 1\n",
    "        return false/1000"
   ]
  },
  {
   "cell_type": "code",
   "execution_count": 246,
   "metadata": {},
   "outputs": [
    {
     "data": {
      "image/png": "[encoded data removed]",
      "text/plain": [
       "<Figure size 432x288 with 1 Axes>"
      ]
     },
     "metadata": {
      "needs_background": "light"
     },
     "output_type": "display_data"
    }
   ],
   "source": [
    "ex = create_test(100) #graph of linear regression line does not say anything about y or whether classifies as positive or negative just shows value for where y=0 at each x1 value. you can find slopes using the graph though"
   ]
  },
  {
   "cell_type": "code",
   "execution_count": 247,
   "metadata": {},
   "outputs": [
    {
     "data": {
      "text/plain": [
       "array([0.04272011, 0.46564085, 1.25080048])"
      ]
     },
     "execution_count": 247,
     "metadata": {},
     "output_type": "execute_result"
    }
   ],
   "source": [
    "ex.weights"
   ]
  },
  {
   "cell_type": "code",
   "execution_count": 11,
   "metadata": {},
   "outputs": [],
   "source": [
    "class run_experiment():\n",
    "    def __init__(self,N, M):\n",
    "        self.N = N\n",
    "        self.M = M #in this case, M is # of experiments\n",
    "        self.run() \n",
    "    def run(self):\n",
    "        ein = []\n",
    "        eout = []\n",
    "        for x in range(self.M):\n",
    "            test = create_test(100)\n",
    "            ein.append(test.Ein_error)\n",
    "            eout.append(test.Eout_error)\n",
    "        EinError = np.mean(ein)\n",
    "        EoutError = np.mean(eout)\n",
    "        \n",
    "        print(\"Ein Error %s\" % EinError)\n",
    "        print(\"Eout Error %s\" % EoutError) \n",
    "           \n",
    "            \n",
    "            "
   ]
  },
  {
   "cell_type": "code",
   "execution_count": 12,
   "metadata": {},
   "outputs": [
    {
     "name": "stdout",
     "output_type": "stream",
     "text": [
      "Ein Error 0.038\n",
      "Eout Error 0.048530000000000004\n"
     ]
    },
    {
     "data": {
      "text/plain": [
       "<__main__.run_experiment at 0x7f846b9e00a0>"
      ]
     },
     "execution_count": 12,
     "metadata": {},
     "output_type": "execute_result"
    }
   ],
   "source": [
    "run_experiment(100,100)"
   ]
  },
  {
   "cell_type": "code",
   "execution_count": 135,
   "metadata": {},
   "outputs": [
    {
     "data": {
      "text/plain": [
       "1.5"
      ]
     },
     "execution_count": 135,
     "metadata": {},
     "output_type": "execute_result"
    }
   ],
   "source": [
    "np.mean([1,2])"
   ]
  },
  {
   "cell_type": "markdown",
   "metadata": {},
   "source": [
    "# Problems 5,6,7"
   ]
  },
  {
   "cell_type": "code",
   "execution_count": 59,
   "metadata": {},
   "outputs": [],
   "source": [
    "class Line():\n",
    "    def __init__(self, p):\n",
    "        super().__init__()\n",
    "        self.p1 = p[0]\n",
    "        self.p2 = p[1]\n",
    "        self.slope = (self.p1[1]-self.p2[1])/(self.p1[0]-self.p2[0])\n",
    "        self.b = self.p1[1]-self.slope*self.p1[0]\n",
    "    def calculate(self,x):\n",
    "        return self.slope*x+self.b\n",
    "    def plot(self):\n",
    "        x = np.random.uniform(-1,1,10)\n",
    "        plt.plot(x,self.calculate(x))\n",
    "    def find_actual_y(self,points):\n",
    "        return [np.sign(p[1] - self.calculate(p[0])) for p in points] #higher than line = 1\n",
    "\n",
    "\n",
    "class Plot():\n",
    "    def PLA_line(self,x):\n",
    "        w0 = self.weights[0]\n",
    "        w1 = self.weights[1]\n",
    "        w2 = self.weights[2]\n",
    "        return (-w0-(x*w1))/w2\n",
    "    def LR_line(self,x):\n",
    "        w0 = self.LRweights[0]\n",
    "        w1 = self.LRweights[1]\n",
    "        w2 = self.LRweights[2]\n",
    "        return (-w0-(x*w1))/w2\n",
    "    def plotLR(self):\n",
    "        k = np.concatenate([np.array(self.X),np.array(self.y).reshape(-1,1)],axis=1)\n",
    "        df = pd.DataFrame(k, columns = [\"p1\",\"p2\",\"y\"])\n",
    "        plt.scatter(df[df[\"y\"]==-1].p1,df[df[\"y\"]==-1].p2, color=\"r\")\n",
    "        plt.scatter(df[df[\"y\"]==1].p1,df[df[\"y\"]==1].p2, color=\"g\")\n",
    "\n",
    "        plt.plot([-1,1],[self.slope*x +self.b for x in [-1,1]], label=\"real split\")\n",
    "        plt.plot([-1,1],[self.LR_line(x) for x in [-1,1]], label=\"linear regression\")\n",
    "        plt.plot([-1,1],[self.PLA_line(x) for x in [-1,1]], label=\"PLA\")\n",
    "        \n",
    "        plt.legend()\n",
    "        plt.xlim([-1, 1])\n",
    "        plt.ylim([-1, 1])\n",
    "        plt.show()\n",
    "\n",
    "class Model():\n",
    "    def predict_from_point(self, point):\n",
    "        val = np.dot(point, self.weights)\n",
    "        return np.sign(val)\n",
    "    def adjust_weights(self, point,y):\n",
    "        point = [1]+list(point) #1 for threshold\n",
    "        if y == self.predict_from_point(point):\n",
    "            return True\n",
    "        else:\n",
    "            self.weights = self.weights + np.multiply(y, point) #can change threshold too\n",
    "            return False\n",
    "        \n",
    "        \n",
    "        \n",
    "        \n",
    "class create_test(Line, Model, Plot):\n",
    "    def __init__(self,N):\n",
    "        \n",
    "        self.create_line()\n",
    "        \n",
    "        #create points and real vals\n",
    "        self.N = N\n",
    "        self.X = [np.random.uniform(-1.0,1.0,2) for x in range(self.N)]\n",
    "        self.y = np.array(self.find_actual_y(self.X)).reshape(-1,1)\n",
    "        \n",
    "        self.linreg = linreg(self.X,self.y)\n",
    "        self.weights = np.array(self.linreg.w)[:,0]\n",
    "        self.LRweights = self.weights\n",
    "        \n",
    "        #linreg error\n",
    "        self.preds = np.sign(self.linreg.preds)\n",
    "        self.Ein_error = self.Ein_error()\n",
    "        self.Eout_error = self.Eout_error()\n",
    "        \n",
    "        self.runPLA()\n",
    "        \n",
    "        #self.plotLR()\n",
    "        \n",
    "        \n",
    "    def create_line(self):\n",
    "        p = [np.random.uniform(-1.0,1.0,2) for x in range(2)]\n",
    "        while p[0][0] == p[1][0] and p[0][1] == p[1][1]:\n",
    "            p = [np.random.uniform(-1.0,1.0,2) for x in range(2)]\n",
    "        super().__init__(p)\n",
    "    \n",
    "    def runPLA(self):\n",
    "        self.num_iters = 0\n",
    "        \n",
    "        while True:\n",
    "            val = random.randint(0,self.N-1)\n",
    "            acc = self.adjust_weights(self.X[val],self.y[val])\n",
    "            if acc:\n",
    "                #check if all are accurate if it comes back as true for random point, if so then stop\n",
    "                for val in range(self.N):\n",
    "                    if self.predict_from_point([1]+list(self.X[val]))!= self.y[val]:\n",
    "                        acc = False\n",
    "                        break \n",
    "                if acc:\n",
    "                    break\n",
    "            \n",
    "            else:\n",
    "                self.num_iters += 1 # only add iteration if not True because otherwise it did not adjust at all and was already done\n",
    "        \n",
    "    def Ein_error(self):\n",
    "        return sum(self.preds != self.y.reshape(1,-1)[0])/self.N\n",
    "    def Eout_error(self):\n",
    "        false = 0\n",
    "        for x in range(1000):\n",
    "            point = np.random.uniform(-1.0,1.0,2)\n",
    "            y = self.find_actual_y([point])\n",
    "            pred = np.sign(np.dot(np.concatenate([[1],point]), self.LRweights))\n",
    "            if y != pred:\n",
    "                false += 1\n",
    "        return false/1000"
   ]
  },
  {
   "cell_type": "code",
   "execution_count": 65,
   "metadata": {},
   "outputs": [],
   "source": [
    "class run_experiment():\n",
    "    def __init__(self,N, M):\n",
    "        self.N = N\n",
    "        self.M = M #in this case, M is # of experiments\n",
    "        self.run() \n",
    "    def run(self):\n",
    "        ein = []\n",
    "        eout = []\n",
    "        num_iters = []\n",
    "        for x in range(self.M):\n",
    "            test = create_test(self.N)\n",
    "            ein.append(test.Ein_error)\n",
    "            eout.append(test.Eout_error)\n",
    "            num_iters.append(test.num_iters)\n",
    "        EinError = np.mean(ein)\n",
    "        EoutError = np.mean(eout)\n",
    "        NumIters = np.mean(num_iters)\n",
    "        print(\"Ein Error %s\" % EinError)\n",
    "        print(\"Eout Error %s\" % EoutError) \n",
    "        print(\"Num Iters %s\" % NumIters)   \n",
    "            \n",
    "            "
   ]
  },
  {
   "cell_type": "code",
   "execution_count": 70,
   "metadata": {},
   "outputs": [
    {
     "name": "stdout",
     "output_type": "stream",
     "text": [
      "Ein Error 0.028000000000000004\n",
      "Eout Error 0.10734\n",
      "Num Iters 4.89\n"
     ]
    },
    {
     "data": {
      "text/plain": [
       "<__main__.run_experiment at 0x7f846b9f2c10>"
      ]
     },
     "execution_count": 70,
     "metadata": {},
     "output_type": "execute_result"
    }
   ],
   "source": [
    "run_experiment(10,100)"
   ]
  },
  {
   "cell_type": "markdown",
   "metadata": {},
   "source": [
    "# Problem 8"
   ]
  },
  {
   "cell_type": "code",
   "execution_count": 71,
   "metadata": {},
   "outputs": [],
   "source": [
    "class Line():\n",
    "    def find_actual_y(self,points):\n",
    "        return [np.sign(p[0]**2+p[1]**2-.6) for p in points] #higher than line = 1\n",
    "\n",
    "\n",
    "        \n",
    "class create_test(Line, Model, Plot):\n",
    "    def __init__(self,N):\n",
    "        \n",
    "        #create points and real vals\n",
    "        self.N = N\n",
    "        self.X = [np.random.uniform(-1.0,1.0,2) for x in range(self.N)]\n",
    "        self.y = self.find_actual_y(self.X)\n",
    "        self.create_noise()\n",
    "        \n",
    "        self.y = np.array(self.y).reshape(-1,1)\n",
    "        self.linreg = linreg(self.X,self.y)\n",
    "        self.weights = np.array(self.linreg.w)[:,0]\n",
    "        self.LRweights = self.weights\n",
    "        \n",
    "        \n",
    "        #linreg error\n",
    "        self.preds = np.sign(self.linreg.preds)\n",
    "        self.Ein_error = self.Ein_error()\n",
    "        \n",
    "    \n",
    "    \n",
    "    def create_noise(self):\n",
    "        noise = random.sample(range(len(self.y)),int(len(self.y)/10))\n",
    "        self.y = [self.y[x] if x not in noise else -self.y[x] for x in range(len(self.y))]\n",
    "        \n",
    "    def Ein_error(self):\n",
    "        return sum(self.preds != self.y.reshape(1,-1)[0])/self.N\n",
    "    "
   ]
  },
  {
   "cell_type": "code",
   "execution_count": 72,
   "metadata": {},
   "outputs": [
    {
     "data": {
      "text/plain": [
       "0.573"
      ]
     },
     "execution_count": 72,
     "metadata": {},
     "output_type": "execute_result"
    }
   ],
   "source": [
    "test = create_test(1000)\n",
    "test.Ein_error"
   ]
  },
  {
   "cell_type": "code",
   "execution_count": 233,
   "metadata": {},
   "outputs": [],
   "source": [
    "class run_experiment():\n",
    "    def __init__(self,N, M):\n",
    "        self.N = N\n",
    "        self.M = M\n",
    "        self.run() \n",
    "    def run(self):\n",
    "        ein = []\n",
    "\n",
    "        for x in range(self.M):\n",
    "            test = create_test(100)\n",
    "            ein.append(test.Ein_error)\n",
    "\n",
    "        EinError = np.mean(ein)\n",
    "\n",
    "        print(\"Ein Error %s\" % EinError)\n",
    "\n",
    "\n",
    "            "
   ]
  },
  {
   "cell_type": "code",
   "execution_count": 234,
   "metadata": {},
   "outputs": [
    {
     "name": "stdout",
     "output_type": "stream",
     "text": [
      "Ein Error 0.44309999999999994\n"
     ]
    },
    {
     "data": {
      "text/plain": [
       "<__main__.run_experiment at 0x7f925ced1730>"
      ]
     },
     "execution_count": 234,
     "metadata": {},
     "output_type": "execute_result"
    }
   ],
   "source": [
    "run_experiment(1000,100)"
   ]
  },
  {
   "cell_type": "markdown",
   "metadata": {},
   "source": [
    "# Problem 9"
   ]
  },
  {
   "cell_type": "code",
   "execution_count": 295,
   "metadata": {},
   "outputs": [],
   "source": [
    "class Line():\n",
    "    def find_actual_y(self,points):\n",
    "        return [np.sign(p[0]**2+p[1]**2-.6) for p in points] #higher than line = 1\n",
    "\n",
    "\n",
    "\n",
    "        \n",
    "class create_test(Line, Model, Plot):\n",
    "    def __init__(self,N):\n",
    "        \n",
    "        #create points and real vals\n",
    "        self.N = N\n",
    "        self.X = [np.random.uniform(-1.0,1.0,2) for x in range(self.N)]\n",
    "        self.y = self.find_actual_y(self.X)\n",
    "        self.y = self.create_noise(self.y)\n",
    "        self.y = np.array(self.y).reshape(-1,1)\n",
    "        self.X = [[x1,x2,x1*x2,x1**2,x2**2] for x1,x2 in self.X]\n",
    "        self.linreg = linreg(self.X,self.y)\n",
    "        self.weights = np.array(self.linreg.w)[:,0]\n",
    "        self.LRweights = self.weights\n",
    "        \n",
    "        #self.plotLR()\n",
    "        \n",
    "        #linreg error\n",
    "        self.preds = np.sign(self.linreg.preds)\n",
    "        self.Ein_error = self.Ein_error()\n",
    "        self.Eout_error = self.Eout_error()\n",
    "        \n",
    "        \n",
    "    \n",
    "    def create_noise(self,y):\n",
    "        noise = random.sample(range(len(y)),int(len(y)/10))\n",
    "        return [y[x] if x not in noise else -y[x] for x in range(len(y))]\n",
    "        \n",
    "    def Ein_error(self):\n",
    "        return sum(self.preds != self.y.reshape(1,-1)[0])/self.N\n",
    "    def Eout_error(self):\n",
    "        false = 0\n",
    "        EoutX = [np.random.uniform(-1.0,1.0,2) for x in range(1000)]\n",
    "        EoutX = [[x1,x2,x1*x2,x1**2,x2**2] for x1,x2 in EoutX]\n",
    "        Eouty = self.find_actual_y(EoutX)\n",
    "        Eouty = self.create_noise(Eouty)\n",
    "        self.Eouty = Eouty\n",
    "        self.EoutX = EoutX\n",
    "        for x,y in zip(EoutX,Eouty):\n",
    "            pred = np.sign(np.dot(np.concatenate([[1],x]), self.LRweights))\n",
    "            if y != pred:\n",
    "                false += 1\n",
    "        return false/1000"
   ]
  },
  {
   "cell_type": "code",
   "execution_count": 296,
   "metadata": {},
   "outputs": [
    {
     "data": {
      "text/plain": [
       "array([-1.02626897, -0.00803764, -0.00871995,  0.11931693,  1.65429291,\n",
       "        1.58248924])"
      ]
     },
     "execution_count": 296,
     "metadata": {},
     "output_type": "execute_result"
    }
   ],
   "source": [
    "test = create_test(1000)\n",
    "test.weights"
   ]
  },
  {
   "cell_type": "code",
   "execution_count": 297,
   "metadata": {},
   "outputs": [
    {
     "data": {
      "text/plain": [
       "0.128"
      ]
     },
     "execution_count": 297,
     "metadata": {},
     "output_type": "execute_result"
    }
   ],
   "source": [
    "test.Eout_error"
   ]
  },
  {
   "cell_type": "code",
   "execution_count": 293,
   "metadata": {},
   "outputs": [],
   "source": [
    "class run_experiment():\n",
    "    def __init__(self,N, M):\n",
    "        self.N = N\n",
    "        self.M = M\n",
    "        self.run() \n",
    "    def run(self):\n",
    "        weights = []\n",
    "        eouts = []\n",
    "        for x in range(self.M):\n",
    "            test = create_test(100)\n",
    "            weights.append(test.weights)\n",
    "            eouts.append(test.Eout_error)\n",
    "        weights = np.mean(weights,axis=0)\n",
    "        eout = np.mean(eouts)\n",
    "        print(\"Weights %s\" % weights)\n",
    "        print(\"Eout Error %s\" % eout)\n",
    "\n",
    "            "
   ]
  },
  {
   "cell_type": "code",
   "execution_count": 298,
   "metadata": {},
   "outputs": [
    {
     "name": "stdout",
     "output_type": "stream",
     "text": [
      "Weights [-1.01433811 -0.00383889 -0.00199546  0.02301527  1.60186245  1.60723453]\n",
      "Eout Error 0.15636999999999998\n"
     ]
    },
    {
     "data": {
      "text/plain": [
       "<__main__.run_experiment at 0x7f925d3127c0>"
      ]
     },
     "execution_count": 298,
     "metadata": {},
     "output_type": "execute_result"
    }
   ],
   "source": [
    "run_experiment(1000,100)"
   ]
  },
  {
   "cell_type": "code",
   "execution_count": null,
   "metadata": {},
   "outputs": [],
   "source": []
  }
 ],
 "metadata": {
  "kernelspec": {
   "display_name": "Python 3",
   "language": "python",
   "name": "python3"
  },
  "language_info": {
   "codemirror_mode": {
    "name": "ipython",
    "version": 3
   },
   "file_extension": ".py",
   "mimetype": "text/x-python",
   "name": "python",
   "nbconvert_exporter": "python",
   "pygments_lexer": "ipython3",
   "version": "3.8.4"
  }
 },
 "nbformat": 4,
 "nbformat_minor": 4
}
