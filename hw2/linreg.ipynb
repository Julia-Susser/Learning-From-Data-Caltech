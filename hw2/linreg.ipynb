{
 "cells": [
  {
   "cell_type": "code",
   "execution_count": 125,
   "metadata": {},
   "outputs": [],
   "source": [
    "import numpy as np\n",
    "import matplotlib.pyplot as plt"
   ]
  },
  {
   "cell_type": "code",
   "execution_count": 126,
   "metadata": {},
   "outputs": [],
   "source": [
    "X = [[1,1],[1,2],[1,3],[1,4]]\n",
    "y = [[0],[2],[3],[4]]"
   ]
  },
  {
   "cell_type": "code",
   "execution_count": 127,
   "metadata": {},
   "outputs": [],
   "source": [
    "# a = multiply(X,inverse(X)) # a = 1 is the idea that X*a=X and X*X^-1=a\n",
    "# XT = transpose(X)\n",
    "# XXT = multiply(XT,X)\n",
    "# xdag = multiply(inverse(XXT),XT)"
   ]
  },
  {
   "cell_type": "code",
   "execution_count": 128,
   "metadata": {},
   "outputs": [],
   "source": [
    "def multiply(A,B):\n",
    "    k = [[[A[x][a] * get_columns(B,y)[a] for a in range(len(B))] for y in range(len(B[0]))] for x in range(len(A))]\n",
    "    k = [[sum(y) for y in x] for x in k]\n",
    "    return k"
   ]
  },
  {
   "cell_type": "code",
   "execution_count": 129,
   "metadata": {},
   "outputs": [],
   "source": [
    "def add(A,B):\n",
    "    return  [[A[x][y] + B[x][y] for y in range(len(A[0]))] for x in range(len(A))]\n",
    "\n",
    "def subtract(A,B):\n",
    "    return  [[A[x][y] - B[x][y] for y in range(len(A[0]))] for x in range(len(A))]\n",
    "def get_columns(A,col):\n",
    "    return [x[col] for x in A]\n",
    "    \n",
    "def multiply(A,B):\n",
    "    k = [[[A[x][a] * get_columns(B,y)[a] for a in range(len(B))] for y in range(len(B[0]))] for x in range(len(A))]\n",
    "    k = [[sum(y) for y in x] for x in k]\n",
    "    return k\n",
    "\n",
    "def multiplyNum(num,M):\n",
    "    return [[num*M[x][y] for y in range(len(M[0]))] for x in range(len(M))]\n",
    "\n",
    "def transpose(matrix):\n",
    "    return [[y[x]for y in matrix] for x in range(len(matrix[0]))]\n",
    "def subMatrix(M,i,j):\n",
    "    #k = [x[:j]+x[j+1:] if j!=len(M[0]) else x[:j] for x in [M[x] for x in range(len(M)) if x != i]]\n",
    "    k = [M[x] for x in range(len(M)) if x != i]\n",
    "    k = [x[:j]+x[j+1:] if j!=len(M[0]) else x[:j] for x in k]\n",
    "    return k\n",
    "def det(M):\n",
    "    if len(M)==1 and len(M[0]) == 1:\n",
    "        return M[0][0]\n",
    "    return sum([(-1)**(x+2) * M[0][x]* det(subMatrix(M,0,x)) for x in range(len(M[0]))])\n",
    "def minor(M, i, j):\n",
    "    return det(subMatrix(M, i-1,j-1))\n",
    "def cofactor(M, i, j):\n",
    "    return (-1)**(i+j) * minor(M,i,j)\n",
    "def adjunct(M):\n",
    "    return transpose(cofactor_matrix(M))\n",
    "def cofactor_matrix(M):\n",
    "    return [[cofactor(M,x+1,y+1) for y in range(len(M[0]))] for x in range(len(M))] \n",
    "def inverse(M):\n",
    "    return multiplyNum(1/det(M),adjunct(M))"
   ]
  },
  {
   "cell_type": "code",
   "execution_count": 130,
   "metadata": {},
   "outputs": [],
   "source": [
    "def calc(X,w):\n",
    "    return [np.sum(np.dot(x,w)) for x in X]   \n"
   ]
  },
  {
   "cell_type": "code",
   "execution_count": 147,
   "metadata": {},
   "outputs": [],
   "source": [
    "XT = transpose(X)\n",
    "XXT = multiply(XT,X)\n",
    "iX = inverse(XXT)\n",
    "#iX = np.linalg.pinv(XXT)\n",
    "w = multiply(multiply(iX,XT),y)\n",
    "pred = calc(X,w)"
   ]
  },
  {
   "cell_type": "code",
   "execution_count": 148,
   "metadata": {},
   "outputs": [
    {
     "data": {
      "text/plain": [
       "<matplotlib.collections.LineCollection at 0x7f84447bac70>"
      ]
     },
     "execution_count": 148,
     "metadata": {},
     "output_type": "execute_result"
    },
    {
     "data": {
      "image/png": "[encoded data removed]",
      "text/plain": [
       "<Figure size 432x288 with 1 Axes>"
      ]
     },
     "metadata": {
      "needs_background": "light"
     },
     "output_type": "display_data"
    }
   ],
   "source": [
    "plt.plot(np.array(X)[:,-1],pred)\n",
    "plt.plot(np.array(X)[:,-1],y,\"o\")\n",
    "plt.vlines(np.array(X)[:,-1], y, pred, colors='k', linestyles='solid', label='')"
   ]
  },
  {
   "cell_type": "code",
   "execution_count": 159,
   "metadata": {},
   "outputs": [],
   "source": [
    "def multiply(A,B):\n",
    "    k = [[[A[x][a] * get_columns(B,y)[a] for a in range(len(B))] for y in range(len(B[0]))] for x in range(len(A))]\n",
    "    k = [[sum(y) for y in x] for x in k]\n",
    "    return k\n",
    "\n",
    "class linreg():\n",
    "    def __init__(self,X,y):\n",
    "        self.X = X\n",
    "        self.X = np.concatenate([[[1]for x in range(len(X))],X],axis=1)\n",
    "        self.y = y\n",
    "        self.XT = np.transpose(self.X)\n",
    "        self.XXT = multiply(self.XT,self.X)\n",
    "        #self.iX = inverse(self.XXT)\n",
    "        self.iX = np.linalg.pinv(self.XXT)\n",
    "        self.w = multiply(multiply(self.iX,self.XT),self.y)\n",
    "        self.pred = calc(self.X,self.w)\n",
    "        \n",
    "        self.plot()\n",
    "        \n",
    "    def plot(self):\n",
    "        plt.plot(np.array(X)[:,-1],pred)\n",
    "        plt.plot(np.array(X)[:,-1],y,\"o\")\n",
    "        plt.vlines(np.array(X)[:,-1], y, pred, colors='k', linestyles='solid', label='')\n",
    "        plt.show()\n",
    "    \n",
    "X = [[1],[2],[3],[4]]\n",
    "y = [[0],[2],[3],[4]]\n",
    "linregLine = linreg(X,y)\n",
    "linregLine.w"
   ]
  },
  {
   "cell_type": "code",
   "execution_count": 161,
   "metadata": {},
   "outputs": [
    {
     "data": {
      "image/png": "[encoded data removed]",
      "text/plain": [
       "<Figure size 432x288 with 1 Axes>"
      ]
     },
     "metadata": {
      "needs_background": "light"
     },
     "output_type": "display_data"
    },
    {
     "data": {
      "text/plain": [
       "[[-0.9999999999999936], [1.2999999999999985]]"
      ]
     },
     "execution_count": 161,
     "metadata": {},
     "output_type": "execute_result"
    }
   ],
   "source": [
    "X = [[1],[2],[3],[4]]\n",
    "y = [[0],[2],[3],[4]]\n",
    "linregLine = linreg(X,y)\n",
    "linregLine.w"
   ]
  },
  {
   "cell_type": "code",
   "execution_count": null,
   "metadata": {},
   "outputs": [],
   "source": []
  }
 ],
 "metadata": {
  "kernelspec": {
   "display_name": "Python 3",
   "language": "python",
   "name": "python3"
  },
  "language_info": {
   "codemirror_mode": {
    "name": "ipython",
    "version": 3
   },
   "file_extension": ".py",
   "mimetype": "text/x-python",
   "name": "python",
   "nbconvert_exporter": "python",
   "pygments_lexer": "ipython3",
   "version": "3.8.4"
  }
 },
 "nbformat": 4,
 "nbformat_minor": 4
}
