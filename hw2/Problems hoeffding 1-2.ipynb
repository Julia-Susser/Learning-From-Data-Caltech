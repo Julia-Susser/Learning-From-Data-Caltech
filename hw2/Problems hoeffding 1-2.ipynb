{
 "cells": [
  {
   "cell_type": "code",
   "execution_count": 1,
   "metadata": {},
   "outputs": [],
   "source": [
    "import random\n",
    "import numpy as np\n",
    "import math\n",
    "#threshold (E) for how close distribution of Ein(sample) should be to distribution of Eout\n",
    "#Bigger E --> Smaller Prob bad outcome\n",
    "#Bigger Ein (sample, self.N) --> Smaller Prob bad outcome"
   ]
  },
  {
   "cell_type": "code",
   "execution_count": 67,
   "metadata": {},
   "outputs": [],
   "source": [
    "class RunTest():\n",
    "    def flip(self):\n",
    "        return [random.randint(0,1) for x in range(self.N)]\n",
    "    def Distribution(self, sample):\n",
    "        return len([y for y in sample if y==0])/len(sample)\n",
    "    \n",
    "    def find_v1(self):\n",
    "        return self.Distribution(self.ex[0])\n",
    "    \n",
    "    def find_vrand(self):\n",
    "        return self.Distribution(random.choice(self.ex))\n",
    "    \n",
    "    def find_vmin(self):\n",
    "        minVal = min([self.Distribution(x) for x in self.ex])\n",
    "        minSample = [x for x in self.ex if self.Distribution(x)==minVal][0]\n",
    "        return minVal\n",
    "    \n",
    "    def run_test(self):\n",
    "        self.ex = [self.flip() for x in range(self.M)]\n",
    "        return [self.find_v1(),self.find_vrand(), self.find_vmin()]\n",
    "    \n",
    "class RunExperiment(RunTest):\n",
    "    def __init__(self,N,M, numEx):\n",
    "        self.N = N #sample size\n",
    "        self.M = M #number of hypothesises\n",
    "        self.numEx = numEx\n",
    "        self.run_experiment()\n",
    "    def run_experiment(self):\n",
    "        self.Ex = np.array([self.run_test() for x in range(self.numEx)])\n",
    "        print(\"Average Vmin %s\" % np.mean(self.Ex[:,-1]))\n",
    "        self.HoeffdingInequality()\n",
    "    def HoeffdingInequality(self):\n",
    "        #vmin is selecting the best form every experiment, v1 and vrand are getting a distribution of random samples\n",
    "        E = .3 \n",
    "        ProbBadOutcome = 2*(math.e**(-2*(E**2)*self.N)) #N is sample size because it is probability of sample not equally the distribution of Eout. \n",
    "        vrand = self.Ex[:,1]\n",
    "        #next use all of the different samples to find the actual probability of there being a bad outcome where the sample distribution is greater than E from distribution of Eout(.5)\n",
    "        prob = np.count_nonzero(np.abs(vrand - .5) >= E)/self.Ex.shape[0]\n",
    "        print(\"Prob of Bad outcome Vmin %s\"%prob)\n",
    "        v1 = self.Ex[:,0]\n",
    "        prob = np.count_nonzero(np.abs(v1 - .5) >= E)/self.Ex.shape[0]\n",
    "        print(\"Prob of Bad outcome V1 %s\"%prob)\n",
    "        vmin = self.Ex[:,-1]\n",
    "        prob = np.count_nonzero(np.abs(vmin - .5) >= E)/self.Ex.shape[0]\n",
    "        print(\"Prob of Bad outcome Vmin %s\"%prob)\n",
    "        # it makes sense that V1 and Vrand because they are returning a bunch of different random samples that will have the same probability of randomly having a bad outcome. Thus their distribution is the same as Hoeffding's single bin. Vmin has multiple different experiments added together's probability of bad outcome.\n",
    "        print(\"Prob of Bad outcome Calculated %s\" % ProbBadOutcome)\n",
    "        \n",
    "        \n",
    "        \n",
    "        "
   ]
  },
  {
   "cell_type": "code",
   "execution_count": 68,
   "metadata": {},
   "outputs": [
    {
     "name": "stdout",
     "output_type": "stream",
     "text": [
      "Average Vmin 0.0371\n",
      "Prob of Bad outcome Vmin 0.102\n",
      "Prob of Bad outcome V1 0.128\n",
      "Prob of Bad outcome Vmin 1.0\n",
      "Prob of Bad outcome Calculated 0.3305977764431732\n"
     ]
    }
   ],
   "source": [
    "ex = RunExperiment(10,1000,1000)\n",
    "#ex.run_experiment()"
   ]
  },
  {
   "cell_type": "code",
   "execution_count": null,
   "metadata": {},
   "outputs": [],
   "source": []
  }
 ],
 "metadata": {
  "kernelspec": {
   "display_name": "Python 3",
   "language": "python",
   "name": "python3"
  },
  "language_info": {
   "codemirror_mode": {
    "name": "ipython",
    "version": 3
   },
   "file_extension": ".py",
   "mimetype": "text/x-python",
   "name": "python",
   "nbconvert_exporter": "python",
   "pygments_lexer": "ipython3",
   "version": "3.8.4"
  }
 },
 "nbformat": 4,
 "nbformat_minor": 4
}
