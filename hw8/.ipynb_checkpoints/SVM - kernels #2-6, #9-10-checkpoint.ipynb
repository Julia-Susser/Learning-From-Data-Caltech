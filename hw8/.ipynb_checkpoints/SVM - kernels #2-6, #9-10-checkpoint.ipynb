{
 "cells": [
  {
   "cell_type": "code",
   "execution_count": 28,
   "metadata": {},
   "outputs": [],
   "source": [
    "import numpy as np\n",
    "from math import e\n",
    "import math\n",
    "import random\n",
    "import matplotlib.pyplot as plt\n",
    "import pandas as pd\n",
    "import seaborn as sns\n",
    "import copy\n",
    "import cvxopt as cvo\n",
    "from cvxopt import matrix\n",
    "import copy\n",
    "import sklearn\n",
    "from sklearn import svm"
   ]
  },
  {
   "cell_type": "code",
   "execution_count": 71,
   "metadata": {},
   "outputs": [],
   "source": [
    "class create_test():\n",
    "    def __init__(self,val1,val2=None,C=0.01,kernel=\"poly\",Q=1):\n",
    "        self.val1 = val1\n",
    "        self.val2 = val2\n",
    "        \n",
    "        self.train = pd.read_csv(\"../data/features.train.csv\",index_col=0)\n",
    "        self.train.columns = [\"digit\",\"x1\",\"x2\"]\n",
    "        self.test = pd.read_csv(\"../data/features.test.csv\",index_col=0)\n",
    "        self.test.columns = [\"digit\",\"x1\",\"x2\"]\n",
    "        \n",
    "        self.initDataset()\n",
    "        \n",
    "        my_svm = svm.SVC(C = C, kernel = kernel,degree = Q, coef0 = 1.0, gamma = 1.0)\n",
    "        my_svm.fit(self.Xtrain,self.ytrain)\n",
    "        \n",
    "        Ein = cur_score = my_svm.score(self.Xtrain, self.ytrain)\n",
    "        Eout = cur_score = my_svm.score(self.Xtest, self.ytest)\n",
    "        \n",
    "        val2 = \"all\" if self.val2==None else self.val2\n",
    "        print(\"%s vs. %s\" % (self.val1, val2))\n",
    "        print(\"C is %s; Kernel is %s\" % (C,kernel))\n",
    "        print(\"Ein Error: %s\" %(1-Ein))\n",
    "        print(\"Eout Error: %s\" %(1-Eout))\n",
    "        \n",
    "    def initDataset(self):\n",
    "        if self.val2 != None:\n",
    "            self.train = self.train[(self.train[\"digit\"]==self.val1) | (self.train[\"digit\"]==self.val2)]\n",
    "            self.train.loc[self.train[\"digit\"]==self.val1,\"y\"]=1\n",
    "            self.train.loc[self.train[\"digit\"]==self.val2,\"y\"]=-1\n",
    "            \n",
    "            self.test = self.test[(self.test[\"digit\"]==self.val1) | (self.test[\"digit\"]==self.val2)]\n",
    "            self.test.loc[self.test[\"digit\"]==self.val1,\"y\"]=1\n",
    "            self.test.loc[self.test[\"digit\"]==self.val2,\"y\"]=-1\n",
    "        else:\n",
    "            self.train[\"y\"] = -1\n",
    "            self.train.loc[self.train[\"digit\"]==self.val1,\"y\"]=1\n",
    "            \n",
    "            self.test[\"y\"] = -1\n",
    "            self.test.loc[self.test[\"digit\"]==self.val1,\"y\"]=1\n",
    "        \n",
    "        \n",
    "        self.Xtrain = np.array(self.train[[\"x1\",\"x2\"]])\n",
    "        self.ytrain = np.array(self.train.y)\n",
    "        self.Xtest = np.array(self.test[[\"x1\",\"x2\"]])\n",
    "        self.ytest = np.array(self.test.y) \n",
    "            \n",
    "    "
   ]
  },
  {
   "cell_type": "code",
   "execution_count": 72,
   "metadata": {},
   "outputs": [
    {
     "name": "stdout",
     "output_type": "stream",
     "text": [
      "0 vs. all\n",
      "C is 0.01; Kernel is poly\n",
      "Ein Error: 0.10588396653408316\n",
      "Eout Error: 0.11160936721474835\n",
      "\n",
      "\n",
      "1 vs. all\n",
      "C is 0.01; Kernel is poly\n",
      "Ein Error: 0.014401316691811772\n",
      "Eout Error: 0.0219232685600399\n",
      "\n",
      "\n",
      "2 vs. all\n",
      "C is 0.01; Kernel is poly\n",
      "Ein Error: 0.10026059525442321\n",
      "Eout Error: 0.09865470852017932\n",
      "\n",
      "\n",
      "3 vs. all\n",
      "C is 0.01; Kernel is poly\n",
      "Ein Error: 0.09024825126868741\n",
      "Eout Error: 0.08271051320378675\n",
      "\n",
      "\n",
      "4 vs. all\n",
      "C is 0.01; Kernel is poly\n",
      "Ein Error: 0.08942531888629812\n",
      "Eout Error: 0.09965122072745392\n",
      "\n",
      "\n",
      "5 vs. all\n",
      "C is 0.01; Kernel is poly\n",
      "Ein Error: 0.07625840076807022\n",
      "Eout Error: 0.07972097658196309\n",
      "\n",
      "\n",
      "6 vs. all\n",
      "C is 0.01; Kernel is poly\n",
      "Ein Error: 0.09107118365107669\n",
      "Eout Error: 0.08470353761833582\n",
      "\n",
      "\n",
      "7 vs. all\n",
      "C is 0.01; Kernel is poly\n",
      "Ein Error: 0.08846523110684401\n",
      "Eout Error: 0.07324364723467858\n",
      "\n",
      "\n",
      "8 vs. all\n",
      "C is 0.01; Kernel is poly\n",
      "Ein Error: 0.074338225209162\n",
      "Eout Error: 0.08271051320378675\n",
      "\n",
      "\n",
      "9 vs. all\n",
      "C is 0.01; Kernel is poly\n",
      "Ein Error: 0.08832807570977919\n",
      "Eout Error: 0.08819133034379667\n",
      "\n",
      "\n"
     ]
    }
   ],
   "source": [
    "for digit in range(10):\n",
    "    create_test(digit,kernel=\"poly\")\n",
    "    print(\"\\n\")"
   ]
  },
  {
   "cell_type": "code",
   "execution_count": 70,
   "metadata": {},
   "outputs": [
    {
     "name": "stdout",
     "output_type": "stream",
     "text": [
      "1 vs. 5\n",
      "C is 0.01\n",
      "Ein Error: 0.0038436899423446302\n",
      "Eout Error: 0.02358490566037741\n",
      "1 vs. 5\n",
      "C is 1\n",
      "Ein Error: 0.004484304932735439\n",
      "Eout Error: 0.021226415094339646\n",
      "1 vs. 5\n",
      "C is 100\n",
      "Ein Error: 0.0032030749519538215\n",
      "Eout Error: 0.018867924528301883\n",
      "1 vs. 5\n",
      "C is 10000\n",
      "Ein Error: 0.002562459961563124\n",
      "Eout Error: 0.02358490566037741\n",
      "1 vs. 5\n",
      "C is 1000000\n",
      "Ein Error: 0.0006406149903908087\n",
      "Eout Error: 0.02358490566037741\n"
     ]
    }
   ],
   "source": [
    "for C in [0.01,1,100,10**4,10**6]:\n",
    "    create_test(val1=1,val2=5,C=C,kernel=\"rbf\")"
   ]
  },
  {
   "cell_type": "code",
   "execution_count": 54,
   "metadata": {},
   "outputs": [
    {
     "data": {
      "text/plain": [
       "array([ 0.1, 10.1, 20.1, 30.1, 40.1, 50.1, 60.1, 70.1, 80.1, 90.1])"
      ]
     },
     "execution_count": 54,
     "metadata": {},
     "output_type": "execute_result"
    }
   ],
   "source": [
    "np.arange(0.1,100,10)"
   ]
  },
  {
   "cell_type": "code",
   "execution_count": null,
   "metadata": {},
   "outputs": [],
   "source": []
  }
 ],
 "metadata": {
  "kernelspec": {
   "display_name": "Python 3",
   "language": "python",
   "name": "python3"
  },
  "language_info": {
   "codemirror_mode": {
    "name": "ipython",
    "version": 3
   },
   "file_extension": ".py",
   "mimetype": "text/x-python",
   "name": "python",
   "nbconvert_exporter": "python",
   "pygments_lexer": "ipython3",
   "version": "3.8.4"
  }
 },
 "nbformat": 4,
 "nbformat_minor": 4
}
