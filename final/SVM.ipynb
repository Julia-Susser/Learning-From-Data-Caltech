{
 "cells": [
  {
   "cell_type": "code",
   "execution_count": 14,
   "metadata": {},
   "outputs": [],
   "source": [
    "import numpy as np\n",
    "from math import e\n",
    "import math\n",
    "import random\n",
    "import matplotlib.pyplot as plt\n",
    "import pandas as pd\n",
    "import seaborn as sns\n",
    "import copy\n",
    "import cvxopt as cvo\n",
    "from cvxopt import matrix\n",
    "import copy\n",
    "import sklearn\n",
    "from sklearn import svm"
   ]
  },
  {
   "cell_type": "code",
   "execution_count": 55,
   "metadata": {},
   "outputs": [],
   "source": [
    "class create_test():\n",
    "    def __init__(self,C=10**10, kernel=\"poly\",Q=1):\n",
    "        \n",
    "        self.X = np.array([[1,0],[0,1],[0,-1],[-1,0],[0,2],[0,-2],[-2,0]])\n",
    "        self.y = np.array([-1,-1,-1,1,1,1,1])\n",
    "        \n",
    "        my_svm = svm.SVC(C = C, kernel = kernel,degree = Q, coef0 = 1.0, gamma = 1.0)\n",
    "        my_svm.fit(self.X,self.y)\n",
    "        \n",
    "        Ein = cur_score = my_svm.score(self.X, self.y)\n",
    "\n",
    "        \n",
    "\n",
    "        print(\"C is %s; Kernel is %s\" % (C,kernel))\n",
    "        if kernel == \"poly\": print(\"Q is %s\" % Q)\n",
    "        print(\"Number of SV %s\" % sum(my_svm.n_support_))\n",
    "        print(\"Ein Error: %s\" %np.round((1-Ein),3))\n",
    "\n",
    "        \n",
    "    \n",
    "            \n",
    "    "
   ]
  },
  {
   "cell_type": "code",
   "execution_count": 56,
   "metadata": {},
   "outputs": [
    {
     "name": "stdout",
     "output_type": "stream",
     "text": [
      "C is 10000000000; Kernel is poly\n",
      "Q is 2\n",
      "Number of SV 5\n",
      "Ein Error: 0.0\n"
     ]
    }
   ],
   "source": [
    "\n",
    "test = create_test(kernel=\"poly\",Q=2)\n",
    "\n"
   ]
  },
  {
   "cell_type": "code",
   "execution_count": null,
   "metadata": {},
   "outputs": [],
   "source": [
    "x1 = (1, 0), y1 = −1 x2 = (0, 1), y2 = −1 x3 = (0, −1), y3 = −1\n",
    "x4 = (−1, 0), y4 = +1 x5 = (0, 2), y5 = +1 x6 = (0, −2), y6 = +1\n",
    "x7 = (−2, 0), y7 = +1"
   ]
  },
  {
   "cell_type": "code",
   "execution_count": 35,
   "metadata": {},
   "outputs": [],
   "source": [
    "def transform(X):\n",
    "    z1 = np.array(X[:,1]**2-2*X[:,0]-1).reshape(-1,1)\n",
    "    z2 = np.array(X[:,0]**2-2*X[:,1]+1).reshape(-1,1)\n",
    "    return np.concatenate([z1,z2],axis=1)"
   ]
  },
  {
   "cell_type": "code",
   "execution_count": 36,
   "metadata": {},
   "outputs": [],
   "source": [
    "X = np.array([[1,0],[0,1],[0,-1],[-1,0],[0,2],[0,-2],[-2,0]])\n",
    "y = [-1,-1,-1,1,1,1,1]"
   ]
  },
  {
   "cell_type": "code",
   "execution_count": 37,
   "metadata": {},
   "outputs": [
    {
     "data": {
      "text/plain": [
       "array([[-3,  2],\n",
       "       [ 0, -1],\n",
       "       [ 0,  3],\n",
       "       [ 1,  2],\n",
       "       [ 3, -3],\n",
       "       [ 3,  5],\n",
       "       [ 3,  5]])"
      ]
     },
     "execution_count": 37,
     "metadata": {},
     "output_type": "execute_result"
    }
   ],
   "source": [
    "transform(X)"
   ]
  },
  {
   "cell_type": "code",
   "execution_count": null,
   "metadata": {},
   "outputs": [],
   "source": []
  }
 ],
 "metadata": {
  "kernelspec": {
   "display_name": "Python 3",
   "language": "python",
   "name": "python3"
  },
  "language_info": {
   "codemirror_mode": {
    "name": "ipython",
    "version": 3
   },
   "file_extension": ".py",
   "mimetype": "text/x-python",
   "name": "python",
   "nbconvert_exporter": "python",
   "pygments_lexer": "ipython3",
   "version": "3.8.4"
  }
 },
 "nbformat": 4,
 "nbformat_minor": 4
}
