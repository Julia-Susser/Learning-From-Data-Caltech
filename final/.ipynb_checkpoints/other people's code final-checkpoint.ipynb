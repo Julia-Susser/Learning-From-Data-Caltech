{
 "cells": [
  {
   "cell_type": "code",
   "execution_count": 58,
   "metadata": {},
   "outputs": [],
   "source": [
    "import numpy as np\n",
    "from math import e\n",
    "import math\n",
    "import random\n",
    "import matplotlib.pyplot as plt\n",
    "import pandas as pd\n",
    "import seaborn as sns\n",
    "import copy\n",
    "import cvxopt as cvo\n",
    "import copy\n",
    "from cvxopt import matrix, solvers"
   ]
  },
  {
   "cell_type": "code",
   "execution_count": 210,
   "metadata": {},
   "outputs": [],
   "source": [
    "\n",
    "\n",
    "class KMeansClustering():\n",
    "        \n",
    "    def runKMeansClustering(self):\n",
    "        lowestScore = 100\n",
    "        for x in range(1):\n",
    "            score, Uks = self.Iter_KMeansClustering()\n",
    "            if lowestScore > score:\n",
    "                lowestScore = score\n",
    "                self.Uks = Uks\n",
    "        #print(lowestScore)\n",
    "        #print(self.Uks)\n",
    "    \n",
    "    def empty(self, Sks):\n",
    "        return len([Sk for Sk in Sks if Sk == []])>0\n",
    "    \n",
    "    def Iter_KMeansClustering(self):\n",
    "        Uks = np.random.uniform(-1.0,1.0,(self.k,2))\n",
    "        oldUks = Uks\n",
    "        Sks = self.AdjustSks(Uks)\n",
    "        \n",
    "        while self.empty(Sks):\n",
    "                Uks = np.random.uniform(-1.0,1.0,(self.k,2))\n",
    "                Sks = self.AdjustSks(Uks)\n",
    "                \n",
    "        while True:\n",
    "            \n",
    "            Uks = self.getUks(Sks)\n",
    "                \n",
    "            if np.equal(oldUks,Uks).all():\n",
    "                break\n",
    "\n",
    "            \n",
    "\n",
    "            Sks = self.AdjustSks(Uks)\n",
    "            \n",
    "            while self.empty(Sks):\n",
    "                Uks = np.random.uniform(-1.0,1.0,(self.k,2))\n",
    "                Sks = self.AdjustSks(Uks)\n",
    "                \n",
    "            oldUks = copy.deepcopy(Uks)\n",
    "            \n",
    "\n",
    "        score = self.MinimizeLloyedAlgorithm(Sks,Uks)\n",
    "        return score,Uks\n",
    "    \n",
    "    def AdjustSks(self,Uks):\n",
    "        Sks = [[] for x in range(self.k)]\n",
    "        distances = self.getDistance(Uks)\n",
    "        for xn,i in zip(self.X,distances):\n",
    "            Sks[np.argmin(i)] = Sks[np.argmin(i)]+[xn]\n",
    "        return Sks\n",
    "    \n",
    "    def getUks(self,Sks):\n",
    "        Uks = []\n",
    "        for k in range(self.k):\n",
    "            Sk = self.getSk(Sks,k)\n",
    "            uk = np.array(Sk).mean(axis=0) \n",
    "            Uks.append(uk)\n",
    "        return Uks\n",
    "    \n",
    "    def getSk(self,Sks,k):\n",
    "        return Sks[k]\n",
    "    \n",
    "    def getDistance(self,Uks):\n",
    "        return [[np.linalg.norm(xn-uk) for uk in Uks] for xn in self.X]\n",
    "    \n",
    "    def MinimizeLloyedAlgorithm(self,Sks,Uks):\n",
    "        return np.sum(np.sum([[np.linalg.norm(xn-uk) for xn in Sk] for uk, Sk in zip(Uks,Sks)]))\n",
    " \n"
   ]
  },
  {
   "cell_type": "code",
   "execution_count": 211,
   "metadata": {},
   "outputs": [],
   "source": [
    "class RBF(KMeansClustering):\n",
    "    def __init__(self,k=10,gamma=1.5):\n",
    "        self.gamma = gamma\n",
    "        self.k = k\n",
    "    def getPhi(self):\n",
    "        phi = np.array([[self.GuassianKernel(xn,uk) for uk in self.Uks] for xn in self.X])\n",
    "        phi = np.concatenate([np.ones((len(phi),1)),phi],axis=1)\n",
    "        return phi\n",
    "\n",
    "    def calculate_pred(self,xn):\n",
    "        kernel = [self.GuassianKernel(xn,uk) for uk in self.Uks]\n",
    "        return np.sign(np.dot([1]+kernel,self.weights))\n",
    "            \n",
    "    def findWeights(self):\n",
    "        phi = self.getPhi()\n",
    "        phi2 = np.matmul(phi.T,phi)\n",
    "        iphi = np.linalg.pinv(phi2)\n",
    "        iPP = np.matmul(iphi,phi.T)\n",
    "        self.weights = np.matmul(iPP,self.y.T)\n",
    "    \n",
    "    def fit(self,X,y):\n",
    "        self.X = X\n",
    "        self.y = y\n",
    "        self.runKMeansClustering()\n",
    "        self.findWeights()\n",
    "        \n",
    "    def GuassianKernel(self,x1,x2):\n",
    "        return np.exp(-1 * self.gamma * np.linalg.norm(x1 - x2)) #guassian\n",
    "        \n",
    "        \n",
    "    def calculate_preds(self,X):\n",
    "        return np.array([self.calculate_pred(x)for x in X])"
   ]
  },
  {
   "cell_type": "code",
   "execution_count": 212,
   "metadata": {},
   "outputs": [],
   "source": [
    "class SVM:\n",
    "    def __init__(self,hard_margin=True,kernel=\"rbf\",C=.01,gamma=1.5):\n",
    "        self.kernel = kernel\n",
    "        \n",
    "        self.hard_margin = hard_margin\n",
    "        self.soft_margin = not self.hard_margin # hard margin with C --> C is huge!\n",
    "        \n",
    "        if self.soft_margin:\n",
    "            self.C = C\n",
    "        if self.kernel == \"poly\":\n",
    "            self.Q = 2\n",
    "        if self.kernel == \"rbf\":\n",
    "            self.gamma = gamma\n",
    "        \n",
    "        \n",
    "    def getQuadCoefs(self):\n",
    "        if self.kernel == False: #no z space N*N\n",
    "            #print(\"Kernel=False\")\n",
    "            return np.matmul(self.X,self.X.T)\n",
    "        else:\n",
    "            #print(\"Kernel=%s\" % self.kernel)\n",
    "            #if self.kernel==\"rbf\":print(\"Gamma is %s\" %self.gamma)\n",
    "            #if self.kernel==\"poly\":print(\"Q is %s\" %self.Q)\n",
    "            return np.array([[self.getKernel(xn,xm) for xm in self.X] for xn in self.X])\n",
    "        \n",
    "        \n",
    "    def getConstraints(self):\n",
    "        if self.soft_margin:\n",
    "            #print(\"Soft Margin\")\n",
    "            #-alpha <= 0\n",
    "            G1 = np.multiply(-1, np.eye(self.N))\n",
    "            h1 = np.zeros(self.N)\n",
    "            #alpha <= C\n",
    "            G2 = np.eye(self.N)\n",
    "            h2 = np.multiply(np.ones(self.N), self.C)\n",
    "            \n",
    "            G = cvo.matrix(np.vstack((G1, G2)))\n",
    "            h = cvo.matrix(np.hstack((h1, h2)))\n",
    "            \n",
    "        if self.hard_margin:\n",
    "            #print(\"Hard Margin\")\n",
    "            #-alpha <= 0\n",
    "            G = cvo.matrix(np.multiply(-1, np.eye(self.N)))\n",
    "            h = cvo.matrix(np.zeros(self.N))\n",
    "        return G, h\n",
    "    \n",
    "    def getAlphas(self):\n",
    "        cvo.solvers.options['show_progress'] = False\n",
    "        q = cvo.matrix(np.multiply(-1, np.ones((self.N,1))))\n",
    "        K = self.getQuadCoefs()\n",
    "        P = cvo.matrix(np.multiply(np.outer(self.y, self.y), K))\n",
    "        A = cvo.matrix(self.y.reshape(1, -1), tc='d')\n",
    "        b = cvo.matrix(0.0)\n",
    "        G,h = self.getConstraints()\n",
    "        cvo_sol = cvo.solvers.qp(P,q,G,h,A,b)\n",
    "        self.alphas = np.ravel(cvo_sol['x'])\n",
    "        \n",
    "        \n",
    "    def get_svs(self):\n",
    "        return [idx for idx,an in enumerate(self.alphas) if an > 10**-5]\n",
    "   \n",
    "    def find_b(self):\n",
    "        idx = np.argmax(self.alphas)\n",
    "        xm = self.X[idx]\n",
    "        ym = self.y[idx]\n",
    "        if self.kernel != False:\n",
    "            kernel = [self.getKernel(xn,xm) for xn in self.X]\n",
    "            ay = np.multiply(self.alphas,self.y)\n",
    "            return ym-np.dot(ay,kernel)\n",
    "        else:\n",
    "            return (1-ym*np.matmul(self.weights.T,xm))/ym\n",
    "    \n",
    "    def getKernel(self,x1,x2):\n",
    "        if self.kernel == \"poly\":\n",
    "            return (1+np.matmul(x1,x2.T))**self.Q #POLYNOMIAL\n",
    "        if self.kernel == \"rbf\":\n",
    "            return np.exp(-1 * self.gamma * np.linalg.norm(x1 - x2, ord=2)) #RBF\n",
    "        \n",
    "        \n",
    "        \n",
    "    \n",
    "    def calculate_pred(self,x):\n",
    "        if self.kernel != False:\n",
    "            ay = np.multiply(self.alphas,self.y)\n",
    "            kernel = [self.getKernel(xn,x) for xn in self.X]#equals zn*z\n",
    "            return np.sign(np.dot(ay,kernel))\n",
    "        else:\n",
    "            return np.sign(np.dot(self.weights,[1]+x))\n",
    "            \n",
    "    def findWeights(self):\n",
    "        if self.kernel == False:\n",
    "            self.weights = np.matmul(np.multiply(self.alphas,self.y),self.X)\n",
    "            self.weights = np.array([self.find_b()] + list(self.weights))\n",
    "            \n",
    "    def fit(self,X,y):\n",
    "        self.X = X\n",
    "        self.y = y\n",
    "        self.N = len(self.X)\n",
    "        \n",
    "        self.getAlphas()\n",
    "        \n",
    "        self.svs = self.get_svs()\n",
    "        self.numSVs = len(self.svs)\n",
    "        self.findWeights()\n",
    "\n",
    "        \n",
    "        \n",
    "    def add_thresholdCol(self,X):\n",
    "        return np.concatenate([[[1]for x in range(len(X))],X],axis=1)  \n",
    "    \n",
    "    def calculate_preds(self,X):\n",
    "        if self.kernel != False:\n",
    "            ay = np.multiply(self.alphas,self.y)\n",
    "            kernel = [[self.getKernel(xn,xm) for xm in X] for xn in self.X]\n",
    "            return np.sign(np.matmul(ay,kernel))\n",
    "            \n",
    "        else:\n",
    "            X = self.add_thresholdCol(X)\n",
    "            return np.sign(np.matmul(X, self.weights.T))\n",
    "        #return np.array([self.calculate_pred(x)for x in X])"
   ]
  },
  {
   "cell_type": "code",
   "execution_count": 213,
   "metadata": {},
   "outputs": [],
   "source": [
    "\n",
    "\n",
    "        \n",
    "class create_test():\n",
    "    def __init__(self,N,k=10,gamma=1.5):\n",
    "\n",
    "        \n",
    "        \n",
    "\n",
    "        self.N = N\n",
    "        self.X = np.random.uniform(-1.0,1.0,(self.N,2))\n",
    "        self.y = np.array(self.find_actual_y(self.X))\n",
    "        \n",
    "        my_svm = SVM(gamma=gamma)\n",
    "        my_svm.fit(self.X,self.y)\n",
    "        \n",
    "        my_rbf = RBF(k=k,gamma=gamma)\n",
    "        my_rbf.fit(self.X,self.y)\n",
    "        \n",
    "        self.EinSVM = self.Ein_error(my_svm)\n",
    "        self.EoutSVM = self.Eout_error(my_svm)\n",
    "        self.EinRBF = self.Ein_error(my_rbf)\n",
    "        self.EoutRBF = self.Eout_error(my_rbf)\n",
    "\n",
    "        #self.Print()\n",
    "        \n",
    "    def Print(self):\n",
    "        print(\"RBF Ein Error %s\" % self.EinRBF)\n",
    "        print(\"RBF Eout Error %s\" % self.EoutRBF)\n",
    "        print(\"SVM Ein Error %s\" % self.EinSVM)\n",
    "        print(\"SVM Eout Error %s\" % self.EoutSVM)\n",
    "    \n",
    "    def find_actual_y(self,X):\n",
    "        return np.sign(X[:,1]-X[:,0]+.25*np.sin(np.pi*X[:,0]))\n",
    "    \n",
    "    def add_thresholdCol(self,X):\n",
    "        return np.concatenate([[[1]for x in range(len(X))],X],axis=1)  \n",
    "        \n",
    "    def Ein_error(self,my_model):\n",
    "        preds = my_model.calculate_preds(self.X)\n",
    "        return np.count_nonzero(preds!=self.y)/self.N\n",
    "    \n",
    "    def Eout_error(self,my_model):\n",
    "        X = np.random.uniform(-1.0,1.0,(1000,2))\n",
    "        y = self.find_actual_y(X)\n",
    "        preds = my_model.calculate_preds(X)\n",
    "        return np.count_nonzero(preds!=y)/1000\n",
    "    "
   ]
  },
  {
   "cell_type": "code",
   "execution_count": 224,
   "metadata": {},
   "outputs": [
    {
     "name": "stdout",
     "output_type": "stream",
     "text": [
      "0.03 0.053\n",
      "[True]\n"
     ]
    }
   ],
   "source": [
    "\n",
    "Wins = []\n",
    "for x in range(1):\n",
    "    test = create_test(100,k=9)\n",
    "    print(test.EoutSVM,test.EoutRBF)\n",
    "    Wins.append(test.EoutSVM<test.EoutRBF)\n",
    "print(Wins)\n"
   ]
  },
  {
   "cell_type": "code",
   "execution_count": 180,
   "metadata": {},
   "outputs": [
    {
     "name": "stdout",
     "output_type": "stream",
     "text": [
      "[0.0]\n"
     ]
    }
   ],
   "source": [
    "Eins = []\n",
    "for x in range(1):\n",
    "    obj = create_test(100)\n",
    "    Eins.append(obj.EinSVM)\n",
    "print(Eins)\n"
   ]
  },
  {
   "cell_type": "code",
   "execution_count": 205,
   "metadata": {},
   "outputs": [
    {
     "name": "stdout",
     "output_type": "stream",
     "text": [
      "0.503 0.474\n",
      "0.482 0.481\n",
      "0.513 0.524\n",
      "0.513 0.536\n",
      "0.514 0.518\n",
      "0.514 0.528\n",
      "0.471 0.433\n",
      "0.482 0.423\n",
      "0.527 0.533\n",
      "0.486 0.513\n",
      "0.476 0.488\n",
      "0.472 0.461\n",
      "0.539 0.527\n",
      "0.477 0.511\n",
      "0.494 0.476\n",
      "0.529 0.524\n",
      "0.555 0.512\n",
      "0.539 0.524\n",
      "0.465 0.44\n",
      "0.479 0.516\n",
      "0.468 0.457\n",
      "0.535 0.52\n",
      "0.5 0.509\n",
      "0.533 0.526\n",
      "0.472 0.445\n",
      "[False, False, True, True, True, True, False, False, True, True, True, False, False, True, False, False, False, False, False, True, False, False, True, False, False]\n"
     ]
    }
   ],
   "source": [
    "\n",
    "Wins = []\n",
    "for x in range(25):\n",
    "    test = create_test(100,k=12)\n",
    "    print(test.EoutSVM,test.EoutRBF)\n",
    "    Wins.append(test.EoutSVM<test.EoutRBF)\n",
    "print(Wins)\n"
   ]
  },
  {
   "cell_type": "code",
   "execution_count": 206,
   "metadata": {},
   "outputs": [
    {
     "data": {
      "text/plain": [
       "0.4"
      ]
     },
     "execution_count": 206,
     "metadata": {},
     "output_type": "execute_result"
    }
   ],
   "source": [
    "np.count_nonzero(Wins)/25"
   ]
  },
  {
   "cell_type": "code",
   "execution_count": 365,
   "metadata": {},
   "outputs": [
    {
     "data": {
      "text/plain": [
       "nan"
      ]
     },
     "execution_count": 365,
     "metadata": {},
     "output_type": "execute_result"
    }
   ],
   "source": [
    "#if kernel is false - high Error because the X space is non linearly separated by weird find y function!"
   ]
  },
  {
   "cell_type": "code",
   "execution_count": 220,
   "metadata": {},
   "outputs": [],
   "source": [
    "\n",
    "k9 = []\n",
    "k12 =[]\n",
    "for x in range(10):\n",
    "    test = create_test(100,k=12)\n",
    "    k9.append([test.EinRBF,test.EoutRBF])\n",
    "    test = create_test(100,k=9)\n",
    "    k12.append([test.EinRBF,test.EoutRBF])\n"
   ]
  },
  {
   "cell_type": "code",
   "execution_count": 221,
   "metadata": {},
   "outputs": [
    {
     "data": {
      "text/plain": [
       "array([0.046 , 0.0684])"
      ]
     },
     "execution_count": 221,
     "metadata": {},
     "output_type": "execute_result"
    }
   ],
   "source": [
    "np.average(k12,axis=0)"
   ]
  },
  {
   "cell_type": "code",
   "execution_count": 223,
   "metadata": {},
   "outputs": [
    {
     "data": {
      "text/plain": [
       "array([0.036 , 0.0685])"
      ]
     },
     "execution_count": 223,
     "metadata": {},
     "output_type": "execute_result"
    }
   ],
   "source": [
    "np.average(k9,axis=0)"
   ]
  },
  {
   "cell_type": "code",
   "execution_count": null,
   "metadata": {},
   "outputs": [],
   "source": [
    "k9"
   ]
  }
 ],
 "metadata": {
  "kernelspec": {
   "display_name": "Python 3",
   "language": "python",
   "name": "python3"
  },
  "language_info": {
   "codemirror_mode": {
    "name": "ipython",
    "version": 3
   },
   "file_extension": ".py",
   "mimetype": "text/x-python",
   "name": "python",
   "nbconvert_exporter": "python",
   "pygments_lexer": "ipython3",
   "version": "3.8.4"
  }
 },
 "nbformat": 4,
 "nbformat_minor": 4
}
