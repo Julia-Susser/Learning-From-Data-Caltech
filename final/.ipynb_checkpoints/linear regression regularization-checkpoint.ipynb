{
 "cells": [
  {
   "cell_type": "code",
   "execution_count": 1,
   "metadata": {},
   "outputs": [],
   "source": [
    "import numpy as np\n",
    "from math import e\n",
    "import math\n",
    "import random\n",
    "import matplotlib.pyplot as plt\n",
    "import pandas as pd\n",
    "import seaborn as sns\n"
   ]
  },
  {
   "cell_type": "code",
   "execution_count": 2,
   "metadata": {},
   "outputs": [],
   "source": [
    "\n",
    "\n",
    "class LinearRegressionRegularization():\n",
    "    def __init__(self,X,y, Lambda):\n",
    "        self.X = self.addThresh(X)\n",
    "        self.y = y\n",
    "        self.Lambda = Lambda\n",
    "        \n",
    "        self.XT = np.transpose(self.X)\n",
    "        self.XXT = np.matmul(self.XT,self.X)\n",
    "        self.lm = np.multiply(self.Lambda, np.identity(self.XXT.shape[0]))\n",
    "        self.XXT_plus_lambda = np.add(self.XXT, self.lm)\n",
    "        self.iX = np.linalg.pinv(self.XXT_plus_lambda)\n",
    "        self.w = np.matmul(np.matmul(self.iX,self.XT),self.y) \n",
    "        self.preds = self.calc(X)\n",
    "        \n",
    "    def addThresh(self, X):\n",
    "        return np.concatenate([[[1]for x in range(len(X))],X],axis=1)\n",
    "    def calc(self,X):\n",
    "        return np.matmul(self.addThresh(X),self.w)\n",
    "\n",
    "    \n"
   ]
  },
  {
   "cell_type": "code",
   "execution_count": 25,
   "metadata": {},
   "outputs": [],
   "source": [
    "class create_test():\n",
    "    def __init__(self,val1,val2=None,Lambda=1):\n",
    "        self.val1 = val1\n",
    "        self.val2 = val2\n",
    "        \n",
    "        self.train = pd.read_csv(\"../data/features.train.csv\",index_col=0)\n",
    "        self.train.columns = [\"digit\",\"x1\",\"x2\"]\n",
    "        self.test = pd.read_csv(\"../data/features.test.csv\",index_col=0)\n",
    "        self.test.columns = [\"digit\",\"x1\",\"x2\"]\n",
    "        \n",
    "        self.initDataset()\n",
    "        self.Xtrain = self.nonlinear_transform(self.Xtrain)\n",
    "        self.Xtest = self.nonlinear_transform(self.Xtest)\n",
    "        \n",
    "        self.linreg = LinearRegressionRegularization(self.Xtrain,self.ytrain,Lambda)\n",
    "        \n",
    "        \n",
    "        \n",
    "        val2 = \"all\" if self.val2==None else self.val2\n",
    "        print(\"%s vs. %s\" % (self.val1, val2))\n",
    "        Ein = self.E(self.Xtrain,self.ytrain)\n",
    "        Eout = self.E(self.Xtest,self.ytest)\n",
    "        print(\"Ein Error: %s\" %np.round((Ein),3))\n",
    "        print(\"Eout Error: %s\" %np.round((Eout),3))\n",
    "    \n",
    "    def initDataset(self):\n",
    "        if self.val2 != None:\n",
    "            self.train = self.train[(self.train[\"digit\"]==self.val1) | (self.train[\"digit\"]==self.val2)]\n",
    "            self.train.loc[self.train[\"digit\"]==self.val1,\"y\"]=1\n",
    "            self.train.loc[self.train[\"digit\"]==self.val2,\"y\"]=-1\n",
    "            \n",
    "            self.test = self.test[(self.test[\"digit\"]==self.val1) | (self.test[\"digit\"]==self.val2)]\n",
    "            self.test.loc[self.test[\"digit\"]==self.val1,\"y\"]=1\n",
    "            self.test.loc[self.test[\"digit\"]==self.val2,\"y\"]=-1\n",
    "        else:\n",
    "            self.train[\"y\"] = -1\n",
    "            self.train.loc[self.train[\"digit\"]==self.val1,\"y\"]=1\n",
    "            \n",
    "            self.test[\"y\"] = -1\n",
    "            self.test.loc[self.test[\"digit\"]==self.val1,\"y\"]=1\n",
    "        \n",
    "        self.Xtrain = self.train[[\"x1\",\"x2\"]]\n",
    "        self.ytrain = self.train.y\n",
    "        self.Xtest = self.test[[\"x1\",\"x2\"]]\n",
    "        self.ytest = self.test.y\n",
    "    \n",
    "    \n",
    "    def E(self,X,y):\n",
    "        preds = np.sign(self.linreg.calc(X))\n",
    "        return np.count_nonzero(preds != y)/len(y)   \n",
    "    \n",
    "    def nonlinear_transform(self,X):\n",
    "        X = X.copy()\n",
    "        X[\"x1^2\"] = X[\"x1\"]**2\n",
    "        X[\"x2^2\"] = X[\"x2\"]**2\n",
    "        X[\"x1*x2\"] = X[\"x1\"]*X[\"x2\"] \n",
    "        return X\n",
    "    "
   ]
  },
  {
   "cell_type": "code",
   "execution_count": 26,
   "metadata": {},
   "outputs": [
    {
     "name": "stdout",
     "output_type": "stream",
     "text": [
      "5 vs. all\n",
      "Ein Error: 0.076\n",
      "Eout Error: 0.08\n",
      "\n",
      "\n",
      "6 vs. all\n",
      "Ein Error: 0.091\n",
      "Eout Error: 0.085\n",
      "\n",
      "\n",
      "7 vs. all\n",
      "Ein Error: 0.088\n",
      "Eout Error: 0.073\n",
      "\n",
      "\n",
      "8 vs. all\n",
      "Ein Error: 0.074\n",
      "Eout Error: 0.083\n",
      "\n",
      "\n",
      "9 vs. all\n",
      "Ein Error: 0.088\n",
      "Eout Error: 0.088\n",
      "\n",
      "\n"
     ]
    }
   ],
   "source": [
    "#problems 2-4\n",
    "for digit in range(5,10):\n",
    "    create_test(digit)\n",
    "    print(\"\\n\")"
   ]
  },
  {
   "cell_type": "code",
   "execution_count": 28,
   "metadata": {
    "collapsed": true
   },
   "outputs": [
    {
     "name": "stdout",
     "output_type": "stream",
     "text": [
      "1 vs. 5\n",
      "C is 0.001; Kernel is poly\n",
      "Q is 2\n",
      "Number of SV 76\n",
      "Ein Error: 0.004\n",
      "Eout Error: 0.017\n",
      "\n",
      "\n",
      "1 vs. 5\n",
      "C is 0.01; Kernel is poly\n",
      "Q is 2\n",
      "Number of SV 34\n",
      "Ein Error: 0.004\n",
      "Eout Error: 0.019\n",
      "\n",
      "\n",
      "1 vs. 5\n",
      "C is 0.1; Kernel is poly\n",
      "Q is 2\n",
      "Number of SV 24\n",
      "Ein Error: 0.004\n",
      "Eout Error: 0.019\n",
      "\n",
      "\n",
      "1 vs. 5\n",
      "C is 1; Kernel is poly\n",
      "Q is 2\n",
      "Number of SV 24\n",
      "Ein Error: 0.003\n",
      "Eout Error: 0.019\n",
      "\n",
      "\n"
     ]
    }
   ],
   "source": [
    "# problem 5\n",
    "for C in [.001,0.01,.1,1]:\n",
    "    create_test(val1=1,val2=5,C=C,kernel=\"poly\", Q=2)\n",
    "    print(\"\\n\")"
   ]
  },
  {
   "cell_type": "code",
   "execution_count": 29,
   "metadata": {},
   "outputs": [
    {
     "name": "stdout",
     "output_type": "stream",
     "text": [
      "1 vs. 5\n",
      "C is 0.001; Kernel is poly\n",
      "Q is 2\n",
      "Number of SV 76\n",
      "Ein Error: 0.004\n",
      "Eout Error: 0.017\n",
      "\n",
      "\n",
      "1 vs. 5\n",
      "C is 0.001; Kernel is poly\n",
      "Q is 5\n",
      "Number of SV 25\n",
      "Ein Error: 0.004\n",
      "Eout Error: 0.021\n",
      "\n",
      "\n",
      "1 vs. 5\n",
      "C is 0.01; Kernel is poly\n",
      "Q is 2\n",
      "Number of SV 34\n",
      "Ein Error: 0.004\n",
      "Eout Error: 0.019\n",
      "\n",
      "\n",
      "1 vs. 5\n",
      "C is 0.01; Kernel is poly\n",
      "Q is 5\n",
      "Number of SV 23\n",
      "Ein Error: 0.004\n",
      "Eout Error: 0.021\n",
      "\n",
      "\n",
      "1 vs. 5\n",
      "C is 0.1; Kernel is poly\n",
      "Q is 2\n",
      "Number of SV 24\n",
      "Ein Error: 0.004\n",
      "Eout Error: 0.019\n",
      "\n",
      "\n",
      "1 vs. 5\n",
      "C is 0.1; Kernel is poly\n",
      "Q is 5\n",
      "Number of SV 25\n",
      "Ein Error: 0.003\n",
      "Eout Error: 0.019\n",
      "\n",
      "\n",
      "1 vs. 5\n",
      "C is 1; Kernel is poly\n",
      "Q is 2\n",
      "Number of SV 24\n",
      "Ein Error: 0.003\n",
      "Eout Error: 0.019\n",
      "\n",
      "\n",
      "1 vs. 5\n",
      "C is 1; Kernel is poly\n",
      "Q is 5\n",
      "Number of SV 21\n",
      "Ein Error: 0.003\n",
      "Eout Error: 0.021\n",
      "\n",
      "\n"
     ]
    }
   ],
   "source": [
    "# problem 6\n",
    "for C in [.001,0.01,.1,1]:\n",
    "    create_test(val1=1,val2=5,C=C,kernel=\"poly\", Q=2)\n",
    "    print(\"\\n\")\n",
    "    create_test(val1=1,val2=5,C=C,kernel=\"poly\", Q=5)\n",
    "    print(\"\\n\")"
   ]
  },
  {
   "cell_type": "code",
   "execution_count": 30,
   "metadata": {},
   "outputs": [
    {
     "name": "stdout",
     "output_type": "stream",
     "text": [
      "1 vs. 5\n",
      "C is 0.01; Kernel is rbf\n",
      "Number of SV 406\n",
      "Ein Error: 0.004\n",
      "Eout Error: 0.024\n",
      "\n",
      "\n",
      "1 vs. 5\n",
      "C is 1; Kernel is rbf\n",
      "Number of SV 31\n",
      "Ein Error: 0.004\n",
      "Eout Error: 0.021\n",
      "\n",
      "\n",
      "1 vs. 5\n",
      "C is 100; Kernel is rbf\n",
      "Number of SV 22\n",
      "Ein Error: 0.003\n",
      "Eout Error: 0.019\n",
      "\n",
      "\n",
      "1 vs. 5\n",
      "C is 10000; Kernel is rbf\n",
      "Number of SV 19\n",
      "Ein Error: 0.003\n",
      "Eout Error: 0.024\n",
      "\n",
      "\n",
      "1 vs. 5\n",
      "C is 1000000; Kernel is rbf\n",
      "Number of SV 17\n",
      "Ein Error: 0.001\n",
      "Eout Error: 0.024\n",
      "\n",
      "\n"
     ]
    }
   ],
   "source": [
    "for C in [0.01,1,100,10**4,10**6]:\n",
    "    create_test(val1=1,val2=5,C=C,kernel=\"rbf\")\n",
    "    print(\"\\n\")"
   ]
  },
  {
   "cell_type": "code",
   "execution_count": 54,
   "metadata": {},
   "outputs": [
    {
     "data": {
      "text/plain": [
       "array([ 0.1, 10.1, 20.1, 30.1, 40.1, 50.1, 60.1, 70.1, 80.1, 90.1])"
      ]
     },
     "execution_count": 54,
     "metadata": {},
     "output_type": "execute_result"
    }
   ],
   "source": [
    "np.arange(0.1,100,10)"
   ]
  },
  {
   "cell_type": "code",
   "execution_count": null,
   "metadata": {},
   "outputs": [],
   "source": []
  }
 ],
 "metadata": {
  "kernelspec": {
   "display_name": "Python 3",
   "language": "python",
   "name": "python3"
  },
  "language_info": {
   "codemirror_mode": {
    "name": "ipython",
    "version": 3
   },
   "file_extension": ".py",
   "mimetype": "text/x-python",
   "name": "python",
   "nbconvert_exporter": "python",
   "pygments_lexer": "ipython3",
   "version": "3.8.4"
  }
 },
 "nbformat": 4,
 "nbformat_minor": 4
}
