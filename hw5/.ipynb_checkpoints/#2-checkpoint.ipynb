{
 "cells": [
  {
   "cell_type": "code",
   "execution_count": 126,
   "metadata": {},
   "outputs": [],
   "source": [
    "import matplotlib.pyplot as plt\n",
    "import numpy as np\n",
    "import pandas as pd"
   ]
  },
  {
   "cell_type": "code",
   "execution_count": 206,
   "metadata": {},
   "outputs": [],
   "source": [
    "class Plot():\n",
    "    def __init__(self,weights):\n",
    "        self.weights = weights\n",
    "    def pla_line(self,x):\n",
    "        w0 = self.weights[0]\n",
    "        w1 = self.weights[1]\n",
    "        w2 = self.weights[2]\n",
    "        return (-w0-(x*w1))/w2\n",
    "    def plotPLA(self):\n",
    "        self.Xorig = [np.random.uniform(-1.0,1.0,2) for x in range(500)]\n",
    "        self.X = [[x1**2,x2**2] for x1,x2 in self.Xorig]\n",
    "        b = np.array([[1 for x in range(len(self.X))]])\n",
    "        self.y = np.sign(np.dot(np.concatenate((b.T,self.X), axis=1),self.weights))\n",
    "        \n",
    "        \n",
    "        k = np.concatenate([np.array(self.Xorig),np.array(self.y).reshape(-1,1)],axis=1)\n",
    "        df = pd.DataFrame(k, columns = [\"x1\",\"x2\",\"y\"])\n",
    "        plt.scatter(df[df[\"y\"]==-1].x1,df[df[\"y\"]==-1].x2, color=\"r\")\n",
    "        plt.scatter(df[df[\"y\"]==1].x1,df[df[\"y\"]==1].x2, color=\"g\")\n",
    "        \n",
    "        \n",
    "        plt.xlim([-1, 1])\n",
    "        plt.ylim([-1, 1])\n",
    "        plt.show()"
   ]
  },
  {
   "cell_type": "code",
   "execution_count": 207,
   "metadata": {},
   "outputs": [],
   "source": [
    "plot = Plot([0,1,1])"
   ]
  },
  {
   "cell_type": "code",
   "execution_count": 208,
   "metadata": {},
   "outputs": [
    {
     "data": {
      "image/png": "[encoded data removed]",
      "text/plain": [
       "<Figure size 432x288 with 1 Axes>"
      ]
     },
     "metadata": {
      "needs_background": "light"
     },
     "output_type": "display_data"
    }
   ],
   "source": [
    "plot.plotPLA()"
   ]
  },
  {
   "cell_type": "code",
   "execution_count": 71,
   "metadata": {},
   "outputs": [
    {
     "data": {
      "text/plain": [
       "array([1., 1., 1., 1., 1., 1., 1., 1., 1., 1., 1., 1., 1., 1., 1., 1., 1.,\n",
       "       1., 1., 1., 1., 1., 1., 1., 1., 1., 1., 1., 1., 1., 1., 1., 1., 1.,\n",
       "       1., 1., 1., 1., 1., 1., 1., 1., 1., 1., 1., 1., 1., 1., 1., 1., 1.,\n",
       "       1., 1., 1., 1., 1., 1., 1., 1., 1., 1., 1., 1., 1., 1., 1., 1., 1.,\n",
       "       1., 1., 1., 1., 1., 1., 1., 1., 1., 1., 1., 1., 1., 1., 1., 1., 1.,\n",
       "       1., 1., 1., 1., 1., 1., 1., 1., 1., 1., 1., 1., 1., 1., 1.])"
      ]
     },
     "execution_count": 71,
     "metadata": {},
     "output_type": "execute_result"
    }
   ],
   "source": [
    "obj.y"
   ]
  },
  {
   "cell_type": "code",
   "execution_count": 51,
   "metadata": {},
   "outputs": [
    {
     "data": {
      "text/plain": [
       "array([[1, 2, 1],\n",
       "       [3, 4, 1]])"
      ]
     },
     "execution_count": 51,
     "metadata": {},
     "output_type": "execute_result"
    }
   ],
   "source": []
  },
  {
   "cell_type": "code",
   "execution_count": 167,
   "metadata": {},
   "outputs": [
    {
     "data": {
      "text/plain": [
       "array([0.        , 0.1       , 0.14142136, 0.17320508, 0.2       ,\n",
       "       0.2236068 , 0.24494897, 0.26457513, 0.28284271, 0.3       ,\n",
       "       0.31622777, 0.33166248, 0.34641016, 0.36055513, 0.37416574,\n",
       "       0.38729833, 0.4       , 0.41231056, 0.42426407, 0.43588989,\n",
       "       0.4472136 , 0.45825757, 0.46904158, 0.47958315, 0.48989795,\n",
       "       0.5       , 0.50990195, 0.51961524, 0.52915026, 0.53851648,\n",
       "       0.54772256, 0.55677644, 0.56568542, 0.57445626, 0.58309519,\n",
       "       0.59160798, 0.6       , 0.60827625, 0.6164414 , 0.6244998 ,\n",
       "       0.63245553, 0.64031242, 0.64807407, 0.65574385, 0.66332496,\n",
       "       0.67082039, 0.678233  , 0.68556546, 0.69282032, 0.7       ,\n",
       "       0.70710678, 0.71414284, 0.72111026, 0.72801099, 0.73484692,\n",
       "       0.74161985, 0.74833148, 0.75498344, 0.76157731, 0.76811457,\n",
       "       0.77459667, 0.78102497, 0.78740079, 0.79372539, 0.8       ,\n",
       "       0.80622577, 0.81240384, 0.81853528, 0.82462113, 0.83066239,\n",
       "       0.83666003, 0.84261498, 0.84852814, 0.85440037, 0.86023253,\n",
       "       0.8660254 , 0.87177979, 0.87749644, 0.88317609, 0.88881944,\n",
       "       0.89442719, 0.9       , 0.90553851, 0.91104336, 0.91651514,\n",
       "       0.92195445, 0.92736185, 0.93273791, 0.93808315, 0.94339811,\n",
       "       0.9486833 , 0.9539392 , 0.9591663 , 0.96436508, 0.96953597,\n",
       "       0.97467943, 0.9797959 , 0.98488578, 0.98994949, 0.99498744])"
      ]
     },
     "execution_count": 167,
     "metadata": {},
     "output_type": "execute_result"
    }
   ],
   "source": []
  },
  {
   "cell_type": "code",
   "execution_count": 166,
   "metadata": {},
   "outputs": [
    {
     "data": {
      "text/plain": [
       "array([0.  , 0.01, 0.02, 0.03, 0.04, 0.05, 0.06, 0.07, 0.08, 0.09, 0.1 ,\n",
       "       0.11, 0.12, 0.13, 0.14, 0.15, 0.16, 0.17, 0.18, 0.19, 0.2 , 0.21,\n",
       "       0.22, 0.23, 0.24, 0.25, 0.26, 0.27, 0.28, 0.29, 0.3 , 0.31, 0.32,\n",
       "       0.33, 0.34, 0.35, 0.36, 0.37, 0.38, 0.39, 0.4 , 0.41, 0.42, 0.43,\n",
       "       0.44, 0.45, 0.46, 0.47, 0.48, 0.49, 0.5 , 0.51, 0.52, 0.53, 0.54,\n",
       "       0.55, 0.56, 0.57, 0.58, 0.59, 0.6 , 0.61, 0.62, 0.63, 0.64, 0.65,\n",
       "       0.66, 0.67, 0.68, 0.69, 0.7 , 0.71, 0.72, 0.73, 0.74, 0.75, 0.76,\n",
       "       0.77, 0.78, 0.79, 0.8 , 0.81, 0.82, 0.83, 0.84, 0.85, 0.86, 0.87,\n",
       "       0.88, 0.89, 0.9 , 0.91, 0.92, 0.93, 0.94, 0.95, 0.96, 0.97, 0.98,\n",
       "       0.99])"
      ]
     },
     "execution_count": 166,
     "metadata": {},
     "output_type": "execute_result"
    }
   ],
   "source": []
  },
  {
   "cell_type": "code",
   "execution_count": null,
   "metadata": {},
   "outputs": [],
   "source": [
    "b = np.array([[1 for x in range(a.shape[0])]])"
   ]
  }
 ],
 "metadata": {
  "kernelspec": {
   "display_name": "Python 3",
   "language": "python",
   "name": "python3"
  },
  "language_info": {
   "codemirror_mode": {
    "name": "ipython",
    "version": 3
   },
   "file_extension": ".py",
   "mimetype": "text/x-python",
   "name": "python",
   "nbconvert_exporter": "python",
   "pygments_lexer": "ipython3",
   "version": "3.8.4"
  }
 },
 "nbformat": 4,
 "nbformat_minor": 4
}
