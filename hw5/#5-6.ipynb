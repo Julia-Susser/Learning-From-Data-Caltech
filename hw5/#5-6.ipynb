{
 "cells": [
  {
   "cell_type": "code",
   "execution_count": 1,
   "metadata": {},
   "outputs": [],
   "source": [
    "import math\n",
    "import numpy as np\n",
    "from math import e"
   ]
  },
  {
   "cell_type": "code",
   "execution_count": 65,
   "metadata": {},
   "outputs": [],
   "source": [
    "\n",
    "class gradient_descent():\n",
    "    def __init__(self):\n",
    "        self.weights = [np.float128(1),np.float128(1)]\n",
    "        self.n = .1\n",
    "        #self.run_gradient_descent()\n",
    "        self.run_coords_gradient_descent()\n",
    "        \n",
    "    def run_coords_gradient_descent(self):\n",
    "        for x in range(15):\n",
    "            gradient = [self.gradient()[0],0]\n",
    "            self.weights = np.add(self.weights, -np.multiply(self.n,gradient))\n",
    "            gradient = [0,self.gradient()[1]]\n",
    "            self.weights = np.add(self.weights, -np.multiply(self.n,gradient))\n",
    "        \n",
    "        print(\"Error %s\" % self.error())\n",
    "        print(\"weights %s\" % self.weights)\n",
    "        \n",
    "    def run_gradient_descent(self):\n",
    "        num_iter = 0\n",
    "        print(self.error())\n",
    "        \n",
    "        while self.error() > 10**-14:\n",
    "            num_iter += 1\n",
    "            self.weights = np.add(self.weights, -self.n*self.gradient())  #w = w+nv OR w=w+(-n*partialE/partialw) \n",
    "        \n",
    "        print(\"Error %s\" % self.error())\n",
    "        print(\"num iterations %s\" % num_iter)\n",
    "        print(\"weights %s\" % self.weights)\n",
    "        \n",
    "    def gradient(self):\n",
    "        u,v = self.weights\n",
    "        upartial= 2*((e**v)+2*v*e**(-u))*(u*(e**v)-2*v*(e**-u))\n",
    "        vpartial = 2*(u*(e**v)-2*e**(-u))*(u*(e**v)-2*v*(e**-u))\n",
    "        return np.array([upartial, vpartial])\n",
    "    def error(self):\n",
    "        u,v = self.weights\n",
    "        return (u*(e**v)-2*v*(e**(-u)))**2\n"
   ]
  },
  {
   "cell_type": "code",
   "execution_count": 66,
   "metadata": {},
   "outputs": [
    {
     "name": "stdout",
     "output_type": "stream",
     "text": [
      "Error 0.13981379199615315279\n",
      "weights [ 6.2970759  -2.85230695]\n"
     ]
    },
    {
     "data": {
      "text/plain": [
       "<__main__.gradient_descent at 0x7fe13d0b6c40>"
      ]
     },
     "execution_count": 66,
     "metadata": {},
     "output_type": "execute_result"
    }
   ],
   "source": [
    "gradient_descent()"
   ]
  },
  {
   "cell_type": "code",
   "execution_count": 15,
   "metadata": {},
   "outputs": [
    {
     "data": {
      "text/plain": [
       "0.0"
      ]
     },
     "execution_count": 15,
     "metadata": {},
     "output_type": "execute_result"
    }
   ],
   "source": [
    "\n",
    "    "
   ]
  },
  {
   "cell_type": "code",
   "execution_count": 32,
   "metadata": {},
   "outputs": [
    {
     "data": {
      "text/plain": [
       "1.0"
      ]
     },
     "execution_count": 32,
     "metadata": {},
     "output_type": "execute_result"
    }
   ],
   "source": [
    "np.float128(1)"
   ]
  },
  {
   "cell_type": "code",
   "execution_count": 38,
   "metadata": {},
   "outputs": [
    {
     "data": {
      "text/plain": [
       "array([3, 3])"
      ]
     },
     "execution_count": 38,
     "metadata": {},
     "output_type": "execute_result"
    }
   ],
   "source": [
    "np.dot([1,1],3)"
   ]
  },
  {
   "cell_type": "code",
   "execution_count": 20,
   "metadata": {},
   "outputs": [
    {
     "data": {
      "text/plain": [
       "2.718281828459045"
      ]
     },
     "execution_count": 20,
     "metadata": {},
     "output_type": "execute_result"
    }
   ],
   "source": [
    "e"
   ]
  },
  {
   "cell_type": "code",
   "execution_count": null,
   "metadata": {},
   "outputs": [],
   "source": []
  }
 ],
 "metadata": {
  "kernelspec": {
   "display_name": "Python 3",
   "language": "python",
   "name": "python3"
  },
  "language_info": {
   "codemirror_mode": {
    "name": "ipython",
    "version": 3
   },
   "file_extension": ".py",
   "mimetype": "text/x-python",
   "name": "python",
   "nbconvert_exporter": "python",
   "pygments_lexer": "ipython3",
   "version": "3.8.4"
  }
 },
 "nbformat": 4,
 "nbformat_minor": 4
}
